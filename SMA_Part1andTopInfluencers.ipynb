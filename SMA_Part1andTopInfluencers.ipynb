{
 "cells": [
  {
   "cell_type": "markdown",
   "metadata": {},
   "source": [
    "# SMA Assignment 1"
   ]
  },
  {
   "cell_type": "markdown",
   "metadata": {},
   "source": [
    "### Group Members: Abhinav Singh, Catherine Miao, Eddie Eustachon, Elaine Wang, Thomas Bruce, Qinpei Zou"
   ]
  },
  {
   "cell_type": "markdown",
   "metadata": {},
   "source": [
    "### Part I: Find predictors of influence"
   ]
  },
  {
   "cell_type": "code",
   "execution_count": 7,
   "metadata": {},
   "outputs": [],
   "source": [
    "import pandas as pd\n",
    "import matplotlib.pyplot as plt\n",
    "from sklearn import metrics\n",
    "from sklearn.metrics import roc_curve, roc_auc_score, f1_score\n",
    "from sklearn.metrics import accuracy_score\n",
    "from sklearn.metrics import confusion_matrix\n",
    "import numpy as np\n",
    "from sklearn.preprocessing import StandardScaler\n",
    "from sklearn.linear_model import LogisticRegression\n",
    "from sklearn.model_selection import train_test_split"
   ]
  },
  {
   "cell_type": "code",
   "execution_count": 8,
   "metadata": {},
   "outputs": [],
   "source": [
    "import warnings\n",
    "warnings.filterwarnings(\"ignore\")"
   ]
  },
  {
   "cell_type": "markdown",
   "metadata": {},
   "source": [
    "### 1. Read Data"
   ]
  },
  {
   "cell_type": "code",
   "execution_count": 9,
   "metadata": {},
   "outputs": [],
   "source": [
    "df=pd.read_csv(\"social_media_hw1.csv\",sep=',')"
   ]
  },
  {
   "cell_type": "code",
   "execution_count": 10,
   "metadata": {
    "scrolled": true
   },
   "outputs": [
    {
     "data": {
      "text/html": [
       "<div>\n",
       "<style scoped>\n",
       "    .dataframe tbody tr th:only-of-type {\n",
       "        vertical-align: middle;\n",
       "    }\n",
       "\n",
       "    .dataframe tbody tr th {\n",
       "        vertical-align: top;\n",
       "    }\n",
       "\n",
       "    .dataframe thead th {\n",
       "        text-align: right;\n",
       "    }\n",
       "</style>\n",
       "<table border=\"1\" class=\"dataframe\">\n",
       "  <thead>\n",
       "    <tr style=\"text-align: right;\">\n",
       "      <th></th>\n",
       "      <th>Choice</th>\n",
       "      <th>A_follower_count</th>\n",
       "      <th>A_following_count</th>\n",
       "      <th>A_listed_count</th>\n",
       "      <th>A_mentions_received</th>\n",
       "      <th>A_retweets_received</th>\n",
       "      <th>A_mentions_sent</th>\n",
       "      <th>A_retweets_sent</th>\n",
       "      <th>A_posts</th>\n",
       "      <th>A_network_feature_1</th>\n",
       "      <th>...</th>\n",
       "      <th>B_following_count</th>\n",
       "      <th>B_listed_count</th>\n",
       "      <th>B_mentions_received</th>\n",
       "      <th>B_retweets_received</th>\n",
       "      <th>B_mentions_sent</th>\n",
       "      <th>B_retweets_sent</th>\n",
       "      <th>B_posts</th>\n",
       "      <th>B_network_feature_1</th>\n",
       "      <th>B_network_feature_2</th>\n",
       "      <th>B_network_feature_3</th>\n",
       "    </tr>\n",
       "  </thead>\n",
       "  <tbody>\n",
       "    <tr>\n",
       "      <th>0</th>\n",
       "      <td>0</td>\n",
       "      <td>228</td>\n",
       "      <td>302</td>\n",
       "      <td>3</td>\n",
       "      <td>0.583979</td>\n",
       "      <td>0.100503</td>\n",
       "      <td>0.100503</td>\n",
       "      <td>0.100503</td>\n",
       "      <td>0.362150</td>\n",
       "      <td>2</td>\n",
       "      <td>...</td>\n",
       "      <td>29808</td>\n",
       "      <td>1689</td>\n",
       "      <td>15.430498</td>\n",
       "      <td>3.984029</td>\n",
       "      <td>8.204331</td>\n",
       "      <td>0.332423</td>\n",
       "      <td>6.988815</td>\n",
       "      <td>66</td>\n",
       "      <td>75.530303</td>\n",
       "      <td>1916.893939</td>\n",
       "    </tr>\n",
       "    <tr>\n",
       "      <th>1</th>\n",
       "      <td>0</td>\n",
       "      <td>21591</td>\n",
       "      <td>1179</td>\n",
       "      <td>228</td>\n",
       "      <td>90.456506</td>\n",
       "      <td>25.798292</td>\n",
       "      <td>5.709329</td>\n",
       "      <td>1.111159</td>\n",
       "      <td>5.176620</td>\n",
       "      <td>369</td>\n",
       "      <td>...</td>\n",
       "      <td>848</td>\n",
       "      <td>1610</td>\n",
       "      <td>40.495021</td>\n",
       "      <td>8.943607</td>\n",
       "      <td>3.227677</td>\n",
       "      <td>0.564343</td>\n",
       "      <td>1.070321</td>\n",
       "      <td>163</td>\n",
       "      <td>132.030675</td>\n",
       "      <td>2931.515337</td>\n",
       "    </tr>\n",
       "    <tr>\n",
       "      <th>2</th>\n",
       "      <td>0</td>\n",
       "      <td>7310</td>\n",
       "      <td>1215</td>\n",
       "      <td>101</td>\n",
       "      <td>25.503644</td>\n",
       "      <td>9.556347</td>\n",
       "      <td>5.361519</td>\n",
       "      <td>0.591206</td>\n",
       "      <td>3.589718</td>\n",
       "      <td>95</td>\n",
       "      <td>...</td>\n",
       "      <td>482</td>\n",
       "      <td>206</td>\n",
       "      <td>0.734696</td>\n",
       "      <td>0.354379</td>\n",
       "      <td>0.603202</td>\n",
       "      <td>0.100503</td>\n",
       "      <td>0.603202</td>\n",
       "      <td>3</td>\n",
       "      <td>10.333333</td>\n",
       "      <td>277.333333</td>\n",
       "    </tr>\n",
       "    <tr>\n",
       "      <th>3</th>\n",
       "      <td>0</td>\n",
       "      <td>20</td>\n",
       "      <td>7</td>\n",
       "      <td>2</td>\n",
       "      <td>7.690824</td>\n",
       "      <td>0.277306</td>\n",
       "      <td>1.331508</td>\n",
       "      <td>0.100503</td>\n",
       "      <td>2.830627</td>\n",
       "      <td>6</td>\n",
       "      <td>...</td>\n",
       "      <td>17637</td>\n",
       "      <td>278</td>\n",
       "      <td>572.874855</td>\n",
       "      <td>390.293681</td>\n",
       "      <td>27.552040</td>\n",
       "      <td>7.167557</td>\n",
       "      <td>32.101906</td>\n",
       "      <td>1762</td>\n",
       "      <td>23.469296</td>\n",
       "      <td>1395.845634</td>\n",
       "    </tr>\n",
       "    <tr>\n",
       "      <th>4</th>\n",
       "      <td>1</td>\n",
       "      <td>45589</td>\n",
       "      <td>862</td>\n",
       "      <td>2641</td>\n",
       "      <td>148.854279</td>\n",
       "      <td>36.998884</td>\n",
       "      <td>27.881768</td>\n",
       "      <td>3.333492</td>\n",
       "      <td>23.861282</td>\n",
       "      <td>551</td>\n",
       "      <td>...</td>\n",
       "      <td>1711</td>\n",
       "      <td>181</td>\n",
       "      <td>21.601866</td>\n",
       "      <td>3.581661</td>\n",
       "      <td>6.764657</td>\n",
       "      <td>1.119727</td>\n",
       "      <td>4.563246</td>\n",
       "      <td>85</td>\n",
       "      <td>48.500000</td>\n",
       "      <td>1993.627907</td>\n",
       "    </tr>\n",
       "  </tbody>\n",
       "</table>\n",
       "<p>5 rows × 23 columns</p>\n",
       "</div>"
      ],
      "text/plain": [
       "   Choice  A_follower_count  A_following_count  A_listed_count  \\\n",
       "0       0               228                302               3   \n",
       "1       0             21591               1179             228   \n",
       "2       0              7310               1215             101   \n",
       "3       0                20                  7               2   \n",
       "4       1             45589                862            2641   \n",
       "\n",
       "   A_mentions_received  A_retweets_received  A_mentions_sent  A_retweets_sent  \\\n",
       "0             0.583979             0.100503         0.100503         0.100503   \n",
       "1            90.456506            25.798292         5.709329         1.111159   \n",
       "2            25.503644             9.556347         5.361519         0.591206   \n",
       "3             7.690824             0.277306         1.331508         0.100503   \n",
       "4           148.854279            36.998884        27.881768         3.333492   \n",
       "\n",
       "     A_posts  A_network_feature_1  ...  B_following_count  B_listed_count  \\\n",
       "0   0.362150                    2  ...              29808            1689   \n",
       "1   5.176620                  369  ...                848            1610   \n",
       "2   3.589718                   95  ...                482             206   \n",
       "3   2.830627                    6  ...              17637             278   \n",
       "4  23.861282                  551  ...               1711             181   \n",
       "\n",
       "   B_mentions_received  B_retweets_received  B_mentions_sent  B_retweets_sent  \\\n",
       "0            15.430498             3.984029         8.204331         0.332423   \n",
       "1            40.495021             8.943607         3.227677         0.564343   \n",
       "2             0.734696             0.354379         0.603202         0.100503   \n",
       "3           572.874855           390.293681        27.552040         7.167557   \n",
       "4            21.601866             3.581661         6.764657         1.119727   \n",
       "\n",
       "     B_posts  B_network_feature_1  B_network_feature_2  B_network_feature_3  \n",
       "0   6.988815                   66            75.530303          1916.893939  \n",
       "1   1.070321                  163           132.030675          2931.515337  \n",
       "2   0.603202                    3            10.333333           277.333333  \n",
       "3  32.101906                 1762            23.469296          1395.845634  \n",
       "4   4.563246                   85            48.500000          1993.627907  \n",
       "\n",
       "[5 rows x 23 columns]"
      ]
     },
     "execution_count": 10,
     "metadata": {},
     "output_type": "execute_result"
    }
   ],
   "source": [
    "df.head()"
   ]
  },
  {
   "cell_type": "markdown",
   "metadata": {},
   "source": [
    "### 2. use correlation matrix to check feature correlations"
   ]
  },
  {
   "cell_type": "markdown",
   "metadata": {},
   "source": [
    "### 2.1 Subset features with individual A "
   ]
  },
  {
   "cell_type": "code",
   "execution_count": 11,
   "metadata": {},
   "outputs": [],
   "source": [
    "df2=df[df.columns[1:12]] "
   ]
  },
  {
   "cell_type": "code",
   "execution_count": 12,
   "metadata": {
    "scrolled": true
   },
   "outputs": [
    {
     "data": {
      "text/html": [
       "<div>\n",
       "<style scoped>\n",
       "    .dataframe tbody tr th:only-of-type {\n",
       "        vertical-align: middle;\n",
       "    }\n",
       "\n",
       "    .dataframe tbody tr th {\n",
       "        vertical-align: top;\n",
       "    }\n",
       "\n",
       "    .dataframe thead th {\n",
       "        text-align: right;\n",
       "    }\n",
       "</style>\n",
       "<table border=\"1\" class=\"dataframe\">\n",
       "  <thead>\n",
       "    <tr style=\"text-align: right;\">\n",
       "      <th></th>\n",
       "      <th>A_follower_count</th>\n",
       "      <th>A_following_count</th>\n",
       "      <th>A_listed_count</th>\n",
       "      <th>A_mentions_received</th>\n",
       "      <th>A_retweets_received</th>\n",
       "      <th>A_mentions_sent</th>\n",
       "      <th>A_retweets_sent</th>\n",
       "      <th>A_posts</th>\n",
       "      <th>A_network_feature_1</th>\n",
       "      <th>A_network_feature_2</th>\n",
       "      <th>A_network_feature_3</th>\n",
       "    </tr>\n",
       "  </thead>\n",
       "  <tbody>\n",
       "    <tr>\n",
       "      <th>A_follower_count</th>\n",
       "      <td>1.000000</td>\n",
       "      <td>0.115834</td>\n",
       "      <td>0.815952</td>\n",
       "      <td>0.511609</td>\n",
       "      <td>0.521888</td>\n",
       "      <td>0.018456</td>\n",
       "      <td>0.094799</td>\n",
       "      <td>0.042993</td>\n",
       "      <td>0.622146</td>\n",
       "      <td>-0.153272</td>\n",
       "      <td>-0.036082</td>\n",
       "    </tr>\n",
       "    <tr>\n",
       "      <th>A_following_count</th>\n",
       "      <td>0.115834</td>\n",
       "      <td>1.000000</td>\n",
       "      <td>0.100696</td>\n",
       "      <td>0.058140</td>\n",
       "      <td>0.051819</td>\n",
       "      <td>0.111342</td>\n",
       "      <td>-0.083883</td>\n",
       "      <td>0.138373</td>\n",
       "      <td>0.047236</td>\n",
       "      <td>0.043642</td>\n",
       "      <td>0.097762</td>\n",
       "    </tr>\n",
       "    <tr>\n",
       "      <th>A_listed_count</th>\n",
       "      <td>0.815952</td>\n",
       "      <td>0.100696</td>\n",
       "      <td>1.000000</td>\n",
       "      <td>0.734589</td>\n",
       "      <td>0.747752</td>\n",
       "      <td>0.061729</td>\n",
       "      <td>0.155630</td>\n",
       "      <td>0.053975</td>\n",
       "      <td>0.705268</td>\n",
       "      <td>-0.080056</td>\n",
       "      <td>-0.038574</td>\n",
       "    </tr>\n",
       "    <tr>\n",
       "      <th>A_mentions_received</th>\n",
       "      <td>0.511609</td>\n",
       "      <td>0.058140</td>\n",
       "      <td>0.734589</td>\n",
       "      <td>1.000000</td>\n",
       "      <td>0.990021</td>\n",
       "      <td>0.023336</td>\n",
       "      <td>0.050100</td>\n",
       "      <td>0.026512</td>\n",
       "      <td>0.922340</td>\n",
       "      <td>-0.062407</td>\n",
       "      <td>-0.038079</td>\n",
       "    </tr>\n",
       "    <tr>\n",
       "      <th>A_retweets_received</th>\n",
       "      <td>0.521888</td>\n",
       "      <td>0.051819</td>\n",
       "      <td>0.747752</td>\n",
       "      <td>0.990021</td>\n",
       "      <td>1.000000</td>\n",
       "      <td>0.019130</td>\n",
       "      <td>0.043846</td>\n",
       "      <td>0.033068</td>\n",
       "      <td>0.928273</td>\n",
       "      <td>-0.065266</td>\n",
       "      <td>-0.040301</td>\n",
       "    </tr>\n",
       "    <tr>\n",
       "      <th>A_mentions_sent</th>\n",
       "      <td>0.018456</td>\n",
       "      <td>0.111342</td>\n",
       "      <td>0.061729</td>\n",
       "      <td>0.023336</td>\n",
       "      <td>0.019130</td>\n",
       "      <td>1.000000</td>\n",
       "      <td>0.582630</td>\n",
       "      <td>0.607040</td>\n",
       "      <td>0.032608</td>\n",
       "      <td>0.064242</td>\n",
       "      <td>0.035437</td>\n",
       "    </tr>\n",
       "    <tr>\n",
       "      <th>A_retweets_sent</th>\n",
       "      <td>0.094799</td>\n",
       "      <td>-0.083883</td>\n",
       "      <td>0.155630</td>\n",
       "      <td>0.050100</td>\n",
       "      <td>0.043846</td>\n",
       "      <td>0.582630</td>\n",
       "      <td>1.000000</td>\n",
       "      <td>0.379318</td>\n",
       "      <td>0.081908</td>\n",
       "      <td>-0.048761</td>\n",
       "      <td>-0.042127</td>\n",
       "    </tr>\n",
       "    <tr>\n",
       "      <th>A_posts</th>\n",
       "      <td>0.042993</td>\n",
       "      <td>0.138373</td>\n",
       "      <td>0.053975</td>\n",
       "      <td>0.026512</td>\n",
       "      <td>0.033068</td>\n",
       "      <td>0.607040</td>\n",
       "      <td>0.379318</td>\n",
       "      <td>1.000000</td>\n",
       "      <td>0.074683</td>\n",
       "      <td>-0.066125</td>\n",
       "      <td>-0.018347</td>\n",
       "    </tr>\n",
       "    <tr>\n",
       "      <th>A_network_feature_1</th>\n",
       "      <td>0.622146</td>\n",
       "      <td>0.047236</td>\n",
       "      <td>0.705268</td>\n",
       "      <td>0.922340</td>\n",
       "      <td>0.928273</td>\n",
       "      <td>0.032608</td>\n",
       "      <td>0.081908</td>\n",
       "      <td>0.074683</td>\n",
       "      <td>1.000000</td>\n",
       "      <td>-0.118138</td>\n",
       "      <td>-0.071711</td>\n",
       "    </tr>\n",
       "    <tr>\n",
       "      <th>A_network_feature_2</th>\n",
       "      <td>-0.153272</td>\n",
       "      <td>0.043642</td>\n",
       "      <td>-0.080056</td>\n",
       "      <td>-0.062407</td>\n",
       "      <td>-0.065266</td>\n",
       "      <td>0.064242</td>\n",
       "      <td>-0.048761</td>\n",
       "      <td>-0.066125</td>\n",
       "      <td>-0.118138</td>\n",
       "      <td>1.000000</td>\n",
       "      <td>0.520617</td>\n",
       "    </tr>\n",
       "    <tr>\n",
       "      <th>A_network_feature_3</th>\n",
       "      <td>-0.036082</td>\n",
       "      <td>0.097762</td>\n",
       "      <td>-0.038574</td>\n",
       "      <td>-0.038079</td>\n",
       "      <td>-0.040301</td>\n",
       "      <td>0.035437</td>\n",
       "      <td>-0.042127</td>\n",
       "      <td>-0.018347</td>\n",
       "      <td>-0.071711</td>\n",
       "      <td>0.520617</td>\n",
       "      <td>1.000000</td>\n",
       "    </tr>\n",
       "  </tbody>\n",
       "</table>\n",
       "</div>"
      ],
      "text/plain": [
       "                     A_follower_count  A_following_count  A_listed_count  \\\n",
       "A_follower_count             1.000000           0.115834        0.815952   \n",
       "A_following_count            0.115834           1.000000        0.100696   \n",
       "A_listed_count               0.815952           0.100696        1.000000   \n",
       "A_mentions_received          0.511609           0.058140        0.734589   \n",
       "A_retweets_received          0.521888           0.051819        0.747752   \n",
       "A_mentions_sent              0.018456           0.111342        0.061729   \n",
       "A_retweets_sent              0.094799          -0.083883        0.155630   \n",
       "A_posts                      0.042993           0.138373        0.053975   \n",
       "A_network_feature_1          0.622146           0.047236        0.705268   \n",
       "A_network_feature_2         -0.153272           0.043642       -0.080056   \n",
       "A_network_feature_3         -0.036082           0.097762       -0.038574   \n",
       "\n",
       "                     A_mentions_received  A_retweets_received  \\\n",
       "A_follower_count                0.511609             0.521888   \n",
       "A_following_count               0.058140             0.051819   \n",
       "A_listed_count                  0.734589             0.747752   \n",
       "A_mentions_received             1.000000             0.990021   \n",
       "A_retweets_received             0.990021             1.000000   \n",
       "A_mentions_sent                 0.023336             0.019130   \n",
       "A_retweets_sent                 0.050100             0.043846   \n",
       "A_posts                         0.026512             0.033068   \n",
       "A_network_feature_1             0.922340             0.928273   \n",
       "A_network_feature_2            -0.062407            -0.065266   \n",
       "A_network_feature_3            -0.038079            -0.040301   \n",
       "\n",
       "                     A_mentions_sent  A_retweets_sent   A_posts  \\\n",
       "A_follower_count            0.018456         0.094799  0.042993   \n",
       "A_following_count           0.111342        -0.083883  0.138373   \n",
       "A_listed_count              0.061729         0.155630  0.053975   \n",
       "A_mentions_received         0.023336         0.050100  0.026512   \n",
       "A_retweets_received         0.019130         0.043846  0.033068   \n",
       "A_mentions_sent             1.000000         0.582630  0.607040   \n",
       "A_retweets_sent             0.582630         1.000000  0.379318   \n",
       "A_posts                     0.607040         0.379318  1.000000   \n",
       "A_network_feature_1         0.032608         0.081908  0.074683   \n",
       "A_network_feature_2         0.064242        -0.048761 -0.066125   \n",
       "A_network_feature_3         0.035437        -0.042127 -0.018347   \n",
       "\n",
       "                     A_network_feature_1  A_network_feature_2  \\\n",
       "A_follower_count                0.622146            -0.153272   \n",
       "A_following_count               0.047236             0.043642   \n",
       "A_listed_count                  0.705268            -0.080056   \n",
       "A_mentions_received             0.922340            -0.062407   \n",
       "A_retweets_received             0.928273            -0.065266   \n",
       "A_mentions_sent                 0.032608             0.064242   \n",
       "A_retweets_sent                 0.081908            -0.048761   \n",
       "A_posts                         0.074683            -0.066125   \n",
       "A_network_feature_1             1.000000            -0.118138   \n",
       "A_network_feature_2            -0.118138             1.000000   \n",
       "A_network_feature_3            -0.071711             0.520617   \n",
       "\n",
       "                     A_network_feature_3  \n",
       "A_follower_count               -0.036082  \n",
       "A_following_count               0.097762  \n",
       "A_listed_count                 -0.038574  \n",
       "A_mentions_received            -0.038079  \n",
       "A_retweets_received            -0.040301  \n",
       "A_mentions_sent                 0.035437  \n",
       "A_retweets_sent                -0.042127  \n",
       "A_posts                        -0.018347  \n",
       "A_network_feature_1            -0.071711  \n",
       "A_network_feature_2             0.520617  \n",
       "A_network_feature_3             1.000000  "
      ]
     },
     "execution_count": 12,
     "metadata": {},
     "output_type": "execute_result"
    },
    {
     "data": {
      "image/png": "[encoded data removed]",
      "text/plain": [
       "<Figure size 720x576 with 2 Axes>"
      ]
     },
     "metadata": {
      "needs_background": "light"
     },
     "output_type": "display_data"
    }
   ],
   "source": [
    "import seaborn as sns #from pandas.plotting import scatter_matrix\n",
    "f, ax = plt.subplots(figsize=(10, 8))\n",
    "corr = df2.corr()\n",
    "ax = sns.heatmap(\n",
    "    corr, \n",
    "    vmin=-1, vmax=1, center=0,\n",
    "    cmap=sns.diverging_palette(20, 220, n=200),\n",
    "    square=True,\n",
    "    annot = True\n",
    ")\n",
    "ax.set_xticklabels(\n",
    "    ax.get_xticklabels(),\n",
    "    rotation=45,\n",
    "    horizontalalignment='right'\n",
    ");\n",
    "corr"
   ]
  },
  {
   "cell_type": "markdown",
   "metadata": {},
   "source": [
    "### Correlation matrix indicates: \n",
    "**we should drop network_feature_1, mentions_received since these two features are both highly correlated with retweets_received, i.e. cor(network_feature_1,retweets_received)=0.928, cor(mentions_received, retweets_received)=0.99.**"
   ]
  },
  {
   "cell_type": "markdown",
   "metadata": {},
   "source": [
    "### 3. Feature Reduction & Transformation"
   ]
  },
  {
   "cell_type": "code",
   "execution_count": 13,
   "metadata": {},
   "outputs": [],
   "source": [
    "df4=df[df.columns[1:23]]\n",
    "df4.replace(0,0.00001,inplace=True)\n",
    "df4.drop(['A_mentions_received', 'B_mentions_received','A_network_feature_1','B_network_feature_1'],\\\n",
    "axis=1, inplace=True)"
   ]
  },
  {
   "cell_type": "code",
   "execution_count": 14,
   "metadata": {
    "scrolled": false
   },
   "outputs": [
    {
     "data": {
      "text/html": [
       "<div>\n",
       "<style scoped>\n",
       "    .dataframe tbody tr th:only-of-type {\n",
       "        vertical-align: middle;\n",
       "    }\n",
       "\n",
       "    .dataframe tbody tr th {\n",
       "        vertical-align: top;\n",
       "    }\n",
       "\n",
       "    .dataframe thead th {\n",
       "        text-align: right;\n",
       "    }\n",
       "</style>\n",
       "<table border=\"1\" class=\"dataframe\">\n",
       "  <thead>\n",
       "    <tr style=\"text-align: right;\">\n",
       "      <th></th>\n",
       "      <th>A_follower_count</th>\n",
       "      <th>A_following_count</th>\n",
       "      <th>A_listed_count</th>\n",
       "      <th>A_retweets_received</th>\n",
       "      <th>A_mentions_sent</th>\n",
       "      <th>A_retweets_sent</th>\n",
       "      <th>A_posts</th>\n",
       "      <th>A_network_feature_2</th>\n",
       "      <th>A_network_feature_3</th>\n",
       "      <th>B_follower_count</th>\n",
       "      <th>...</th>\n",
       "      <th>B_network_feature_3</th>\n",
       "      <th>diff_follower_count</th>\n",
       "      <th>diff_posts</th>\n",
       "      <th>diff_following_count</th>\n",
       "      <th>diff_listed_count</th>\n",
       "      <th>diff_retweets_received</th>\n",
       "      <th>diff_mentions_sent</th>\n",
       "      <th>diff_retweets_sent</th>\n",
       "      <th>diff_network_feature_3</th>\n",
       "      <th>diff_network_feature_2</th>\n",
       "    </tr>\n",
       "  </thead>\n",
       "  <tbody>\n",
       "    <tr>\n",
       "      <th>0</th>\n",
       "      <td>228</td>\n",
       "      <td>302.0</td>\n",
       "      <td>3.0</td>\n",
       "      <td>0.100503</td>\n",
       "      <td>0.100503</td>\n",
       "      <td>0.100503</td>\n",
       "      <td>0.362150</td>\n",
       "      <td>166.500000</td>\n",
       "      <td>11355.000000</td>\n",
       "      <td>34463</td>\n",
       "      <td>...</td>\n",
       "      <td>1916.893939</td>\n",
       "      <td>-34235</td>\n",
       "      <td>-6.626665</td>\n",
       "      <td>-29506.0</td>\n",
       "      <td>-1686.0</td>\n",
       "      <td>-3.883525</td>\n",
       "      <td>-8.103828</td>\n",
       "      <td>-0.231920</td>\n",
       "      <td>9438.106061</td>\n",
       "      <td>90.969697</td>\n",
       "    </tr>\n",
       "    <tr>\n",
       "      <th>1</th>\n",
       "      <td>21591</td>\n",
       "      <td>1179.0</td>\n",
       "      <td>228.0</td>\n",
       "      <td>25.798292</td>\n",
       "      <td>5.709329</td>\n",
       "      <td>1.111159</td>\n",
       "      <td>5.176620</td>\n",
       "      <td>18.442971</td>\n",
       "      <td>1330.366048</td>\n",
       "      <td>39262</td>\n",
       "      <td>...</td>\n",
       "      <td>2931.515337</td>\n",
       "      <td>-17671</td>\n",
       "      <td>4.106299</td>\n",
       "      <td>331.0</td>\n",
       "      <td>-1382.0</td>\n",
       "      <td>16.854685</td>\n",
       "      <td>2.481652</td>\n",
       "      <td>0.546816</td>\n",
       "      <td>-1601.149289</td>\n",
       "      <td>-113.587704</td>\n",
       "    </tr>\n",
       "    <tr>\n",
       "      <th>2</th>\n",
       "      <td>7310</td>\n",
       "      <td>1215.0</td>\n",
       "      <td>101.0</td>\n",
       "      <td>9.556347</td>\n",
       "      <td>5.361519</td>\n",
       "      <td>0.591206</td>\n",
       "      <td>3.589718</td>\n",
       "      <td>68.927835</td>\n",
       "      <td>5999.896907</td>\n",
       "      <td>3622</td>\n",
       "      <td>...</td>\n",
       "      <td>277.333333</td>\n",
       "      <td>3688</td>\n",
       "      <td>2.986516</td>\n",
       "      <td>733.0</td>\n",
       "      <td>-105.0</td>\n",
       "      <td>9.201969</td>\n",
       "      <td>4.758317</td>\n",
       "      <td>0.490702</td>\n",
       "      <td>5722.563574</td>\n",
       "      <td>58.594502</td>\n",
       "    </tr>\n",
       "    <tr>\n",
       "      <th>3</th>\n",
       "      <td>20</td>\n",
       "      <td>7.0</td>\n",
       "      <td>2.0</td>\n",
       "      <td>0.277306</td>\n",
       "      <td>1.331508</td>\n",
       "      <td>0.100503</td>\n",
       "      <td>2.830627</td>\n",
       "      <td>2.000000</td>\n",
       "      <td>96.166667</td>\n",
       "      <td>19562</td>\n",
       "      <td>...</td>\n",
       "      <td>1395.845634</td>\n",
       "      <td>-19542</td>\n",
       "      <td>-29.271279</td>\n",
       "      <td>-17630.0</td>\n",
       "      <td>-276.0</td>\n",
       "      <td>-390.016375</td>\n",
       "      <td>-26.220532</td>\n",
       "      <td>-7.067053</td>\n",
       "      <td>-1299.678967</td>\n",
       "      <td>-21.469296</td>\n",
       "    </tr>\n",
       "    <tr>\n",
       "      <th>4</th>\n",
       "      <td>45589</td>\n",
       "      <td>862.0</td>\n",
       "      <td>2641.0</td>\n",
       "      <td>36.998884</td>\n",
       "      <td>27.881768</td>\n",
       "      <td>3.333492</td>\n",
       "      <td>23.861282</td>\n",
       "      <td>127.404293</td>\n",
       "      <td>2833.847943</td>\n",
       "      <td>7554</td>\n",
       "      <td>...</td>\n",
       "      <td>1993.627907</td>\n",
       "      <td>38035</td>\n",
       "      <td>19.298035</td>\n",
       "      <td>-849.0</td>\n",
       "      <td>2460.0</td>\n",
       "      <td>33.417223</td>\n",
       "      <td>21.117111</td>\n",
       "      <td>2.213765</td>\n",
       "      <td>840.220036</td>\n",
       "      <td>78.904293</td>\n",
       "    </tr>\n",
       "  </tbody>\n",
       "</table>\n",
       "<p>5 rows × 27 columns</p>\n",
       "</div>"
      ],
      "text/plain": [
       "   A_follower_count  A_following_count  A_listed_count  A_retweets_received  \\\n",
       "0               228              302.0             3.0             0.100503   \n",
       "1             21591             1179.0           228.0            25.798292   \n",
       "2              7310             1215.0           101.0             9.556347   \n",
       "3                20                7.0             2.0             0.277306   \n",
       "4             45589              862.0          2641.0            36.998884   \n",
       "\n",
       "   A_mentions_sent  A_retweets_sent    A_posts  A_network_feature_2  \\\n",
       "0         0.100503         0.100503   0.362150           166.500000   \n",
       "1         5.709329         1.111159   5.176620            18.442971   \n",
       "2         5.361519         0.591206   3.589718            68.927835   \n",
       "3         1.331508         0.100503   2.830627             2.000000   \n",
       "4        27.881768         3.333492  23.861282           127.404293   \n",
       "\n",
       "   A_network_feature_3  B_follower_count  ...  B_network_feature_3  \\\n",
       "0         11355.000000             34463  ...          1916.893939   \n",
       "1          1330.366048             39262  ...          2931.515337   \n",
       "2          5999.896907              3622  ...           277.333333   \n",
       "3            96.166667             19562  ...          1395.845634   \n",
       "4          2833.847943              7554  ...          1993.627907   \n",
       "\n",
       "   diff_follower_count  diff_posts  diff_following_count  diff_listed_count  \\\n",
       "0               -34235   -6.626665              -29506.0            -1686.0   \n",
       "1               -17671    4.106299                 331.0            -1382.0   \n",
       "2                 3688    2.986516                 733.0             -105.0   \n",
       "3               -19542  -29.271279              -17630.0             -276.0   \n",
       "4                38035   19.298035                -849.0             2460.0   \n",
       "\n",
       "   diff_retweets_received  diff_mentions_sent  diff_retweets_sent  \\\n",
       "0               -3.883525           -8.103828           -0.231920   \n",
       "1               16.854685            2.481652            0.546816   \n",
       "2                9.201969            4.758317            0.490702   \n",
       "3             -390.016375          -26.220532           -7.067053   \n",
       "4               33.417223           21.117111            2.213765   \n",
       "\n",
       "   diff_network_feature_3  diff_network_feature_2  \n",
       "0             9438.106061               90.969697  \n",
       "1            -1601.149289             -113.587704  \n",
       "2             5722.563574               58.594502  \n",
       "3            -1299.678967              -21.469296  \n",
       "4              840.220036               78.904293  \n",
       "\n",
       "[5 rows x 27 columns]"
      ]
     },
     "execution_count": 14,
     "metadata": {},
     "output_type": "execute_result"
    }
   ],
   "source": [
    "df4['diff_follower_count']=df4['A_follower_count'] - df4['B_follower_count']\n",
    "df4['diff_posts'] = df4['A_posts'] - df4['B_posts']\n",
    "df4['diff_following_count']=df4['A_following_count'] - df4['B_following_count']\n",
    "df4['diff_listed_count']=df4['A_listed_count'] - df4['B_listed_count']\n",
    "df4['diff_retweets_received']=df4['A_retweets_received'] - df4['B_retweets_received']\n",
    "df4['diff_mentions_sent']=df4['A_mentions_sent'] - df4['B_mentions_sent']\n",
    "df4['diff_retweets_sent']=df4['A_retweets_sent'] - df4['B_retweets_sent']\n",
    "df4['diff_posts']=df4['A_posts'] - df4['B_posts']\n",
    "df4['diff_network_feature_3'] = df4['A_network_feature_3'] - df4['B_network_feature_3']\n",
    "df4['diff_network_feature_2'] = df4['A_network_feature_2'] - df4['B_network_feature_2']\n",
    "df4.head()"
   ]
  },
  {
   "cell_type": "markdown",
   "metadata": {},
   "source": [
    "### 4. Model Predictions "
   ]
  },
  {
   "cell_type": "markdown",
   "metadata": {},
   "source": [
    "##### (1) Logistic Regression"
   ]
  },
  {
   "cell_type": "code",
   "execution_count": 15,
   "metadata": {},
   "outputs": [],
   "source": [
    "X=df4.iloc[:,-9:]\n",
    "Y=df['Choice'].values\n",
    "X_train,X_test,y_train,y_test=train_test_split(X,Y,test_size=0.20,random_state=5)\n",
    "scaler = StandardScaler()\n",
    "scaler.fit(X)\n",
    "X_scaled = pd.DataFrame(scaler.transform(X),columns = X.columns)"
   ]
  },
  {
   "cell_type": "code",
   "execution_count": 16,
   "metadata": {},
   "outputs": [
    {
     "name": "stdout",
     "output_type": "stream",
     "text": [
      "Predict accuracy of Logistic Regression is  0.7636363636363637\n"
     ]
    },
    {
     "data": {
      "image/png": "[encoded data removed]",
      "text/plain": [
       "<Figure size 432x288 with 2 Axes>"
      ]
     },
     "metadata": {
      "needs_background": "light"
     },
     "output_type": "display_data"
    },
    {
     "data": {
      "text/plain": [
       "array([[419, 125],\n",
       "       [135, 421]], dtype=int64)"
      ]
     },
     "execution_count": 16,
     "metadata": {},
     "output_type": "execute_result"
    }
   ],
   "source": [
    "LR = LogisticRegression().fit(X_train, y_train)\n",
    "y_pred_lr = LR.predict(X_test)\n",
    "acc_lr = metrics.accuracy_score(y_test, y_pred_lr)\n",
    "c_lr=confusion_matrix(y_test, y_pred_lr)\n",
    "print('Predict accuracy of Logistic Regression is ', acc_lr)\n",
    "labels = ['A<B', 'A>B']\n",
    "sns.heatmap(c_lr,annot = True, xticklabels=labels, yticklabels=labels, fmt='d', cmap=\"Blues\", vmin = 0.1);\n",
    "plt.title('Confusion Matrix for logistic regression')\n",
    "plt.ylabel('True Class')\n",
    "plt.xlabel('Predicted Class')\n",
    "plt.show()\n",
    "c_lr"
   ]
  },
  {
   "cell_type": "markdown",
   "metadata": {},
   "source": [
    "##### (2) Random Forest"
   ]
  },
  {
   "cell_type": "code",
   "execution_count": 17,
   "metadata": {
    "scrolled": true
   },
   "outputs": [
    {
     "name": "stdout",
     "output_type": "stream",
     "text": [
      "Predict accuracy of Random Forest is  0.7918181818181819\n"
     ]
    },
    {
     "data": {
      "image/png": "[encoded data removed]",
      "text/plain": [
       "<Figure size 432x288 with 2 Axes>"
      ]
     },
     "metadata": {
      "needs_background": "light"
     },
     "output_type": "display_data"
    },
    {
     "data": {
      "text/plain": [
       "array([[424, 120],\n",
       "       [109, 447]], dtype=int64)"
      ]
     },
     "execution_count": 17,
     "metadata": {},
     "output_type": "execute_result"
    }
   ],
   "source": [
    "from sklearn.ensemble import RandomForestClassifier\n",
    "rf = RandomForestClassifier(n_estimators = 200)\n",
    "rf.fit(X_train, y_train)\n",
    "y_pred_rf = rf.predict(X_test)\n",
    "acc_rf = metrics.accuracy_score(y_test, y_pred_rf)\n",
    "c_rf=confusion_matrix(y_test, y_pred_rf)\n",
    "print('Predict accuracy of Random Forest is ', acc_rf)\n",
    "labels = ['A<B', 'A>B']\n",
    "sns.heatmap(c_rf,annot = True, xticklabels=labels, yticklabels=labels, fmt='d', cmap=\"Blues\", vmin = 0.1);\n",
    "plt.title('Confusion Matrix for Random Forest')\n",
    "plt.ylabel('True Class')\n",
    "plt.xlabel('Predicted Class')\n",
    "plt.show()\n",
    "c_rf"
   ]
  },
  {
   "cell_type": "markdown",
   "metadata": {},
   "source": [
    "### Obtain Feature Importance with Random Forest "
   ]
  },
  {
   "cell_type": "code",
   "execution_count": 18,
   "metadata": {},
   "outputs": [
    {
     "data": {
      "text/html": [
       "<div>\n",
       "<style scoped>\n",
       "    .dataframe tbody tr th:only-of-type {\n",
       "        vertical-align: middle;\n",
       "    }\n",
       "\n",
       "    .dataframe tbody tr th {\n",
       "        vertical-align: top;\n",
       "    }\n",
       "\n",
       "    .dataframe thead th {\n",
       "        text-align: right;\n",
       "    }\n",
       "</style>\n",
       "<table border=\"1\" class=\"dataframe\">\n",
       "  <thead>\n",
       "    <tr style=\"text-align: right;\">\n",
       "      <th></th>\n",
       "      <th>importance</th>\n",
       "    </tr>\n",
       "  </thead>\n",
       "  <tbody>\n",
       "    <tr>\n",
       "      <th>diff_listed_count</th>\n",
       "      <td>0.206925</td>\n",
       "    </tr>\n",
       "    <tr>\n",
       "      <th>diff_follower_count</th>\n",
       "      <td>0.166863</td>\n",
       "    </tr>\n",
       "    <tr>\n",
       "      <th>diff_retweets_received</th>\n",
       "      <td>0.151019</td>\n",
       "    </tr>\n",
       "    <tr>\n",
       "      <th>diff_posts</th>\n",
       "      <td>0.090804</td>\n",
       "    </tr>\n",
       "    <tr>\n",
       "      <th>diff_mentions_sent</th>\n",
       "      <td>0.083180</td>\n",
       "    </tr>\n",
       "    <tr>\n",
       "      <th>diff_network_feature_2</th>\n",
       "      <td>0.080534</td>\n",
       "    </tr>\n",
       "    <tr>\n",
       "      <th>diff_following_count</th>\n",
       "      <td>0.079291</td>\n",
       "    </tr>\n",
       "    <tr>\n",
       "      <th>diff_network_feature_3</th>\n",
       "      <td>0.076207</td>\n",
       "    </tr>\n",
       "    <tr>\n",
       "      <th>diff_retweets_sent</th>\n",
       "      <td>0.065177</td>\n",
       "    </tr>\n",
       "  </tbody>\n",
       "</table>\n",
       "</div>"
      ],
      "text/plain": [
       "                        importance\n",
       "diff_listed_count         0.206925\n",
       "diff_follower_count       0.166863\n",
       "diff_retweets_received    0.151019\n",
       "diff_posts                0.090804\n",
       "diff_mentions_sent        0.083180\n",
       "diff_network_feature_2    0.080534\n",
       "diff_following_count      0.079291\n",
       "diff_network_feature_3    0.076207\n",
       "diff_retweets_sent        0.065177"
      ]
     },
     "execution_count": 18,
     "metadata": {},
     "output_type": "execute_result"
    }
   ],
   "source": [
    "feature_importances = pd.DataFrame(rf.feature_importances_,\n",
    "                                   index = X_train.columns,\n",
    "                                    columns=['importance']).sort_values('importance', ascending=False)\n",
    "feature_importances"
   ]
  },
  {
   "cell_type": "code",
   "execution_count": 19,
   "metadata": {},
   "outputs": [
    {
     "data": {
      "text/plain": [
       "<matplotlib.axes._subplots.AxesSubplot at 0x22d7456a780>"
      ]
     },
     "execution_count": 19,
     "metadata": {},
     "output_type": "execute_result"
    },
    {
     "data": {
      "image/png": "[encoded data removed]",
      "text/plain": [
       "<Figure size 432x288 with 1 Axes>"
      ]
     },
     "metadata": {
      "needs_background": "light"
     },
     "output_type": "display_data"
    }
   ],
   "source": [
    "feature_importances[:5].sort_values('importance').plot.barh()"
   ]
  },
  {
   "cell_type": "markdown",
   "metadata": {},
   "source": [
    "**From the random forest model, we got 79.64% predict accuracy in out-of sample data. Also, from the feature importance above, the top three most important features are:**\n",
    "\n",
    "#### 1. diff_listed_count \n",
    "#### 2. diff_follower_count\n",
    "#### 3. diff_retweets_received"
   ]
  },
  {
   "cell_type": "markdown",
   "metadata": {},
   "source": [
    "##### (3) XGboost"
   ]
  },
  {
   "cell_type": "code",
   "execution_count": 20,
   "metadata": {},
   "outputs": [
    {
     "name": "stdout",
     "output_type": "stream",
     "text": [
      "Collecting xgboost\n",
      "  Downloading https://files.pythonhosted.org/packages/5e/49/b95c037b717b4ceadc76b6e164603471225c27052d1611d5a2e832757945/xgboost-0.90-py2.py3-none-win_amd64.whl (18.3MB)\n",
      "Requirement already satisfied: scipy in c:\\users\\thomas\\anaconda3\\lib\\site-packages (from xgboost) (1.2.1)\n",
      "Requirement already satisfied: numpy in c:\\users\\thomas\\anaconda3\\lib\\site-packages (from xgboost) (1.16.4)\n",
      "Installing collected packages: xgboost\n",
      "Successfully installed xgboost-0.90\n"
     ]
    }
   ],
   "source": [
    "!pip install xgboost"
   ]
  },
  {
   "cell_type": "code",
   "execution_count": 21,
   "metadata": {},
   "outputs": [
    {
     "name": "stdout",
     "output_type": "stream",
     "text": [
      "Predict accuracy of Random Forest is  0.7945454545454546\n"
     ]
    },
    {
     "data": {
      "image/png": "[encoded data removed]",
      "text/plain": [
       "<Figure size 432x288 with 2 Axes>"
      ]
     },
     "metadata": {
      "needs_background": "light"
     },
     "output_type": "display_data"
    },
    {
     "data": {
      "text/plain": [
       "array([[422, 122],\n",
       "       [104, 452]], dtype=int64)"
      ]
     },
     "execution_count": 21,
     "metadata": {},
     "output_type": "execute_result"
    }
   ],
   "source": [
    "import xgboost as xgb\n",
    "xgb=xgb.XGBClassifier(random_state=1,learning_rate=0.01)\n",
    "xgb.fit(X_train, y_train)\n",
    "y_pred_xgb = xgb.predict(X_test)\n",
    "acc_xgb = metrics.accuracy_score(y_test, y_pred_xgb)\n",
    "c_xgb=confusion_matrix(y_test, y_pred_xgb)\n",
    "print('Predict accuracy of Random Forest is ', acc_xgb)\n",
    "labels = ['A<B', 'A>B']\n",
    "sns.heatmap(c_xgb, annot = True, xticklabels=labels, yticklabels=labels, fmt='d', cmap=\"Blues\", vmin = 0.1);\n",
    "plt.title('Confusion Matrix for XGboost')\n",
    "plt.ylabel('True Class')\n",
    "plt.xlabel('Predicted Class')\n",
    "plt.show()\n",
    "c_xgb"
   ]
  },
  {
   "cell_type": "markdown",
   "metadata": {},
   "source": [
    "#### Therefore, both the Random Forest and the XGboost model achieve an accuracy ~ 79%. "
   ]
  },
  {
   "cell_type": "markdown",
   "metadata": {},
   "source": [
    "**From the random forest model, we determine that diff_listed_count, diff_follower_count, diff_retweets_received are three important predictors of influencers.**\n",
    "\n",
    "**Diff_listed_count** is the most important variable which accounts for about 21%. Listed_count measures that the number of people that are in this users' list. A List is a curated group of Twitter accounts. The higher listed_count, the more people follow with interest.\n",
    "\n",
    "**Diff_follower_count** is the second important variable which accounts for 16.6%. Follow_count is the number of followers this account currently has. So diff_follower_count shows how many more followers  A have than B. The more diff_follower_count, the more likely that A's influence power is higher than B's.\n",
    "\n",
    "**Diff_retweets_received** is the third important variable which accouts for 15.1%. Retweets_received is the number of retweets this user received. The more retweets he/she received, the more people pay attention to the tweets he/she sent. So diff_retweets_received is another good predictor to measure the influencial difference between A and B.\n"
   ]
  },
  {
   "cell_type": "markdown",
   "metadata": {},
   "source": [
    "### Business Implication of our model: \n",
    "\n",
    "If a business is having a marketing promotion and in need of allocating limited funding to pay selected media influencers, then this model would help their decision making on who is the better influencer i.e. which media influencer will bring higher profit for the business, and thus the individual to pay. \n",
    "\n",
    "In addition, it is a great model for businesses to strategize their advertsing campaign. For example, when new product is launched, the busienss needs to advertise the new products on social media platform. It would be an excellent way to employ this predictive model so as to target right influencers, and in turn, make the advertising campaign more effective."
   ]
  },
  {
   "cell_type": "markdown",
   "metadata": {},
   "source": [
    "### Calculate the financial value of our model"
   ]
  },
  {
   "cell_type": "markdown",
   "metadata": {},
   "source": [
    "**Without analytics:**\n",
    "\n",
    "Profit_1 = 10 ✖ 0.01% ✖ (A_followers_count + B_followers_count) - 5 ✖ (# of A + # of B)\n",
    "\n",
    "**With analytics:**\n",
    "\n",
    "Profit_2 = 10 ✖ 0.015% ✖ prediction accuracy ✖  Influencers_followers_count - 10 ✖  # of Influencer\n",
    "\n",
    "**Lift in net profit:**\n",
    "Profit_2 - Profit_1\n",
    "\n",
    "**Percentage lift in net profit:** \n",
    "\n",
    "(Profit_2 - Profit_1)/Profit_1x100%\n",
    "\n",
    "**Since without analytics, the retailer will let everyone (A+B) tweet once. so the profit_1 will be: (under assumption: Each user appears only once in the data)**"
   ]
  },
  {
   "cell_type": "code",
   "execution_count": 22,
   "metadata": {},
   "outputs": [],
   "source": [
    "# When A is influencer, the choice is 1.\n",
    "# A_influencer_follower calculates the followers of A if A is an influencer\n",
    "A_influencer_follower = sum(df['A_follower_count'][df['Choice']==1])\n",
    "\n",
    "# the same for B\n",
    "B_influencer_follower = sum(df['B_follower_count'][df['Choice']==0])\n"
   ]
  },
  {
   "cell_type": "code",
   "execution_count": 23,
   "metadata": {},
   "outputs": [
    {
     "name": "stdout",
     "output_type": "stream",
     "text": [
      "Profit without analytics :  5321568.59\n"
     ]
    }
   ],
   "source": [
    "profit_1 = 10*0.0001*(A_influencer_follower+B_influencer_follower) - 5*(len(df)+len(df))\n",
    "print('Profit without analytics : ', round(profit_1,2) )"
   ]
  },
  {
   "cell_type": "markdown",
   "metadata": {},
   "source": [
    "**With analytics, the retailer will only target influencer and our model accuracy is 79.45%. Also, the retailer only target at A or B. The profit_2 will be:** "
   ]
  },
  {
   "cell_type": "code",
   "execution_count": 24,
   "metadata": {},
   "outputs": [
    {
     "name": "stdout",
     "output_type": "stream",
     "text": [
      "Profit with analytics :  6352525.62\n"
     ]
    }
   ],
   "source": [
    "profit_2 = 10*0.00015*0.7945*(A_influencer_follower+B_influencer_follower) - 10*(len(df))\n",
    "print('Profit with analytics : ', round(profit_2,2) )"
   ]
  },
  {
   "cell_type": "code",
   "execution_count": 25,
   "metadata": {},
   "outputs": [
    {
     "name": "stdout",
     "output_type": "stream",
     "text": [
      "Lift in profit :  1030957.03\n",
      "%Lift in profit :  19.4 %\n"
     ]
    }
   ],
   "source": [
    "lift_profit = profit_2 - profit_1\n",
    "print('Lift in profit : ', round(lift_profit,2))\n",
    "\n",
    "lift_profit = (profit_2 - profit_1)/profit_1\n",
    "print('%Lift in profit : ', round(100*lift_profit,1),\"%\")"
   ]
  },
  {
   "cell_type": "markdown",
   "metadata": {},
   "source": [
    "**If using a perfect analytic model which is the predict accuracy is 100%, the lift in net profit will be**"
   ]
  },
  {
   "cell_type": "code",
   "execution_count": 26,
   "metadata": {},
   "outputs": [
    {
     "name": "stdout",
     "output_type": "stream",
     "text": [
      "Lift in net profit from the perfect analytic model :  2688284.3\n",
      "%Lift in net profit from the perfect analytic model :  50.5 %\n"
     ]
    }
   ],
   "source": [
    "profit_perfect = 10*0.00015*(A_influencer_follower+B_influencer_follower) - 10*(len(df))\n",
    "lift_profit_perfect = profit_perfect - profit_1\n",
    "print('Lift in net profit from the perfect analytic model : ', round(lift_profit_perfect,2))\n",
    "print('%Lift in net profit from the perfect analytic model : ', round(100*lift_profit_perfect/profit_1,1),\"%\")"
   ]
  },
  {
   "cell_type": "markdown",
   "metadata": {},
   "source": [
    "### In conclusion, using our analytic model above would increase profit for the retailer by around 20% compared to not using analytics, while using a perfect model would increase profit by around 50%. Therefore, we determine that the financial value of analytics is substantial "
   ]
  },
  {
   "cell_type": "markdown",
   "metadata": {},
   "source": [
    "# Part 2: Finding the top 50 Influencers"
   ]
  },
  {
   "cell_type": "markdown",
   "metadata": {},
   "source": [
    "### We will use normalized feature importances for the top 3 features as weights for the score."
   ]
  },
  {
   "cell_type": "code",
   "execution_count": 42,
   "metadata": {},
   "outputs": [
    {
     "name": "stdout",
     "output_type": "stream",
     "text": [
      "0.3942871359175988 0.31795139976620135 0.2877614643161998 1.0\n"
     ]
    },
    {
     "data": {
      "text/html": [
       "<div>\n",
       "<style scoped>\n",
       "    .dataframe tbody tr th:only-of-type {\n",
       "        vertical-align: middle;\n",
       "    }\n",
       "\n",
       "    .dataframe tbody tr th {\n",
       "        vertical-align: top;\n",
       "    }\n",
       "\n",
       "    .dataframe thead th {\n",
       "        text-align: right;\n",
       "    }\n",
       "</style>\n",
       "<table border=\"1\" class=\"dataframe\">\n",
       "  <thead>\n",
       "    <tr style=\"text-align: right;\">\n",
       "      <th></th>\n",
       "      <th>Unnamed: 0</th>\n",
       "      <th>id</th>\n",
       "      <th>created_at</th>\n",
       "      <th>verified</th>\n",
       "      <th>username</th>\n",
       "      <th>text</th>\n",
       "      <th>location</th>\n",
       "      <th>listed_count</th>\n",
       "      <th>follower_count</th>\n",
       "      <th>retweet_count</th>\n",
       "      <th>score</th>\n",
       "    </tr>\n",
       "  </thead>\n",
       "  <tbody>\n",
       "    <tr>\n",
       "      <th>0</th>\n",
       "      <td>0</td>\n",
       "      <td>1226604413164408832</td>\n",
       "      <td>2020-02-09 20:30:55</td>\n",
       "      <td>False</td>\n",
       "      <td>mochihitsugi</td>\n",
       "      <td>b'RT @IGN: The Animal Crossing-themed Nintendo...</td>\n",
       "      <td>hell</td>\n",
       "      <td>0</td>\n",
       "      <td>68</td>\n",
       "      <td>150</td>\n",
       "      <td>64.784915</td>\n",
       "    </tr>\n",
       "    <tr>\n",
       "      <th>1</th>\n",
       "      <td>1</td>\n",
       "      <td>1226604412426166272</td>\n",
       "      <td>2020-02-09 20:30:55</td>\n",
       "      <td>False</td>\n",
       "      <td>RocktagonBoss</td>\n",
       "      <td>b'RT @EM_KA_17: \\xf0\\x9f\\x92\\xa5 SUCCESS again...</td>\n",
       "      <td>Las Vegas, NV</td>\n",
       "      <td>217</td>\n",
       "      <td>2813</td>\n",
       "      <td>141</td>\n",
       "      <td>1020.531963</td>\n",
       "    </tr>\n",
       "    <tr>\n",
       "      <th>2</th>\n",
       "      <td>2</td>\n",
       "      <td>1226604410786193420</td>\n",
       "      <td>2020-02-09 20:30:55</td>\n",
       "      <td>False</td>\n",
       "      <td>DavidLenlag</td>\n",
       "      <td>b'RT @jenniferatntd: Called a friend in #China...</td>\n",
       "      <td>NaN</td>\n",
       "      <td>0</td>\n",
       "      <td>81</td>\n",
       "      <td>728</td>\n",
       "      <td>235.244409</td>\n",
       "    </tr>\n",
       "    <tr>\n",
       "      <th>3</th>\n",
       "      <td>3</td>\n",
       "      <td>1226604410765271041</td>\n",
       "      <td>2020-02-09 20:30:55</td>\n",
       "      <td>False</td>\n",
       "      <td>ericammbenitez</td>\n",
       "      <td>b'RT @hanalfabeto: Jimena Bar\\xc3\\xb3n ya est\\...</td>\n",
       "      <td>NaN</td>\n",
       "      <td>6</td>\n",
       "      <td>2145</td>\n",
       "      <td>317</td>\n",
       "      <td>775.591860</td>\n",
       "    </tr>\n",
       "    <tr>\n",
       "      <th>4</th>\n",
       "      <td>4</td>\n",
       "      <td>1226604410589020161</td>\n",
       "      <td>2020-02-09 20:30:55</td>\n",
       "      <td>False</td>\n",
       "      <td>GailWil87987475</td>\n",
       "      <td>b'RT @marklevinshow: Our new Middle East frien...</td>\n",
       "      <td>NaN</td>\n",
       "      <td>0</td>\n",
       "      <td>218</td>\n",
       "      <td>440</td>\n",
       "      <td>195.928449</td>\n",
       "    </tr>\n",
       "  </tbody>\n",
       "</table>\n",
       "</div>"
      ],
      "text/plain": [
       "   Unnamed: 0                   id           created_at  verified  \\\n",
       "0           0  1226604413164408832  2020-02-09 20:30:55     False   \n",
       "1           1  1226604412426166272  2020-02-09 20:30:55     False   \n",
       "2           2  1226604410786193420  2020-02-09 20:30:55     False   \n",
       "3           3  1226604410765271041  2020-02-09 20:30:55     False   \n",
       "4           4  1226604410589020161  2020-02-09 20:30:55     False   \n",
       "\n",
       "          username                                               text  \\\n",
       "0     mochihitsugi  b'RT @IGN: The Animal Crossing-themed Nintendo...   \n",
       "1    RocktagonBoss  b'RT @EM_KA_17: \\xf0\\x9f\\x92\\xa5 SUCCESS again...   \n",
       "2      DavidLenlag  b'RT @jenniferatntd: Called a friend in #China...   \n",
       "3   ericammbenitez  b'RT @hanalfabeto: Jimena Bar\\xc3\\xb3n ya est\\...   \n",
       "4  GailWil87987475  b'RT @marklevinshow: Our new Middle East frien...   \n",
       "\n",
       "        location  listed_count  follower_count  retweet_count        score  \n",
       "0           hell             0              68            150    64.784915  \n",
       "1  Las Vegas, NV           217            2813            141  1020.531963  \n",
       "2            NaN             0              81            728   235.244409  \n",
       "3            NaN             6            2145            317   775.591860  \n",
       "4            NaN             0             218            440   195.928449  "
      ]
     },
     "execution_count": 42,
     "metadata": {},
     "output_type": "execute_result"
    }
   ],
   "source": [
    "df_scored = pd.read_csv('coronavirus_tweets.csv')\n",
    "\n",
    "total_importance = feature_importances['importance']['diff_follower_count'] + feature_importances['importance']['diff_listed_count'] + feature_importances['importance']['diff_retweets_received']\n",
    "listed_importance = feature_importances['importance']['diff_listed_count'] / total_importance\n",
    "follower_importance = feature_importances['importance']['diff_follower_count'] / total_importance\n",
    "retweets_importance = feature_importances['importance']['diff_retweets_received'] / total_importance\n",
    "print(listed_importance, follower_importance, retweets_importance, listed_importance+follower_importance+retweets_importance)\n",
    "\n",
    "df_scored['score'] = listed_importance * df_scored['listed_count'] + follower_importance * df_scored['follower_count'] + retweets_importance * df_scored['retweet_count']\n",
    "df_scored.head()"
   ]
  },
  {
   "cell_type": "markdown",
   "metadata": {},
   "source": [
    "## Top 50 influencers, sorted by influence score:"
   ]
  },
  {
   "cell_type": "code",
   "execution_count": 41,
   "metadata": {},
   "outputs": [
    {
     "data": {
      "text/plain": [
       "3698           guardian\n",
       "540             PDChina\n",
       "545             Estadao\n",
       "546          ChinaDaily\n",
       "2173         DolarToday\n",
       "538       EconomicTimes\n",
       "541               afpfr\n",
       "3775       ActualidadRT\n",
       "1623         MailOnline\n",
       "554           latercera\n",
       "3620            Foro_TV\n",
       "4107             nypost\n",
       "641       elcomerciocom\n",
       "287       DiarioTalCual\n",
       "2341     venezuelaaldia\n",
       "409        Portafolioco\n",
       "522        tctelevision\n",
       "1651          thenation\n",
       "543      diariopanorama\n",
       "532                 ajc\n",
       "2359     informativost5\n",
       "414        brianstelter\n",
       "3069     Telenoticiasrd\n",
       "77                  nrc\n",
       "618           telegraaf\n",
       "906            9NewsAUS\n",
       "453          larazon_es\n",
       "136              A24COM\n",
       "3037    noticiarepretel\n",
       "2985            fkeyamo\n",
       "4062           teledoce\n",
       "4212      El_Cooperante\n",
       "922        noticiaaldia\n",
       "2716         globalnews\n",
       "1123        lasillarota\n",
       "553               218Tv\n",
       "2219    diarioelheraldo\n",
       "3119        RTPNoticias\n",
       "695        RealSaavedra\n",
       "4939      nbcwashington\n",
       "332      Presidencia_VE\n",
       "1656       maduradascom\n",
       "4251     TelenoticiasPR\n",
       "457     elcomercio_peru\n",
       "519       elnoticierotc\n",
       "544               mdzol\n",
       "3710            News4SA\n",
       "4518      diariosevilla\n",
       "3814            vampipe\n",
       "85       JBaker31826004\n",
       "Name: username, dtype: object"
      ]
     },
     "execution_count": 41,
     "metadata": {},
     "output_type": "execute_result"
    }
   ],
   "source": [
    "df_scored.sort_values(by='score', ascending = False)['username'].drop_duplicates()[:50]"
   ]
  },
  {
   "cell_type": "markdown",
   "metadata": {},
   "source": [
    "### The top 50 influencers are predominantly international news sources (the top influencer is the UK's Daily Mail, followed by a Chilean newspaper and the New York Post).  This makes sense, as coronavirus has dominated the news globally through the past month, and news sources are likely to be very ."
   ]
  }
 ],
 "metadata": {
  "kernelspec": {
   "display_name": "Python 3",
   "language": "python",
   "name": "python3"
  },
  "language_info": {
   "codemirror_mode": {
    "name": "ipython",
    "version": 3
   },
   "file_extension": ".py",
   "mimetype": "text/x-python",
   "name": "python",
   "nbconvert_exporter": "python",
   "pygments_lexer": "ipython3",
   "version": "3.7.3"
  }
 },
 "nbformat": 4,
 "nbformat_minor": 2
}
