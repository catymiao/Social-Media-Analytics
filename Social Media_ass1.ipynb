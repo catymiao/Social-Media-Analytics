{
 "cells": [
  {
   "cell_type": "markdown",
   "metadata": {},
   "source": [
    "# SMA Assignment 1"
   ]
  },
  {
   "cell_type": "markdown",
   "metadata": {},
   "source": [
    "### Part I: Find predictors of influence"
   ]
  },
  {
   "cell_type": "markdown",
   "metadata": {},
   "source": [
    "#### Group Member: Abhinav Singh, Catherine Miao, Eddie Eustachon, Elaine Wang, Thomas Bruce, Qinpei Zou"
   ]
  },
  {
   "cell_type": "code",
   "execution_count": 2,
   "metadata": {},
   "outputs": [],
   "source": [
    "from sklearn import metrics\n",
    "import pandas as pd\n",
    "import matplotlib.pyplot as plt\n",
    "from sklearn.metrics import roc_curve, roc_auc_score, f1_score\n",
    "from sklearn.metrics import accuracy_score\n",
    "from sklearn.metrics import confusion_matrix\n",
    "import numpy as np\n",
    "from sklearn.preprocessing import StandardScaler\n",
    "from sklearn.linear_model import LogisticRegression\n",
    "from sklearn.model_selection import train_test_split"
   ]
  },
  {
   "cell_type": "code",
   "execution_count": 15,
   "metadata": {},
   "outputs": [],
   "source": [
    "import warnings\n",
    "warnings.filterwarnings(\"ignore\")"
   ]
  },
  {
   "cell_type": "markdown",
   "metadata": {},
   "source": [
    "### 1. Read Data"
   ]
  },
  {
   "cell_type": "code",
   "execution_count": 43,
   "metadata": {},
   "outputs": [],
   "source": [
    "df=pd.read_csv(\"train.csv\",sep=',')"
   ]
  },
  {
   "cell_type": "code",
   "execution_count": 44,
   "metadata": {
    "scrolled": false
   },
   "outputs": [
    {
     "data": {
      "text/html": [
       "<div>\n",
       "<style scoped>\n",
       "    .dataframe tbody tr th:only-of-type {\n",
       "        vertical-align: middle;\n",
       "    }\n",
       "\n",
       "    .dataframe tbody tr th {\n",
       "        vertical-align: top;\n",
       "    }\n",
       "\n",
       "    .dataframe thead th {\n",
       "        text-align: right;\n",
       "    }\n",
       "</style>\n",
       "<table border=\"1\" class=\"dataframe\">\n",
       "  <thead>\n",
       "    <tr style=\"text-align: right;\">\n",
       "      <th></th>\n",
       "      <th>Choice</th>\n",
       "      <th>A_follower_count</th>\n",
       "      <th>A_following_count</th>\n",
       "      <th>A_listed_count</th>\n",
       "      <th>A_mentions_received</th>\n",
       "      <th>A_retweets_received</th>\n",
       "      <th>A_mentions_sent</th>\n",
       "      <th>A_retweets_sent</th>\n",
       "      <th>A_posts</th>\n",
       "      <th>A_network_feature_1</th>\n",
       "      <th>...</th>\n",
       "      <th>B_following_count</th>\n",
       "      <th>B_listed_count</th>\n",
       "      <th>B_mentions_received</th>\n",
       "      <th>B_retweets_received</th>\n",
       "      <th>B_mentions_sent</th>\n",
       "      <th>B_retweets_sent</th>\n",
       "      <th>B_posts</th>\n",
       "      <th>B_network_feature_1</th>\n",
       "      <th>B_network_feature_2</th>\n",
       "      <th>B_network_feature_3</th>\n",
       "    </tr>\n",
       "  </thead>\n",
       "  <tbody>\n",
       "    <tr>\n",
       "      <td>0</td>\n",
       "      <td>0</td>\n",
       "      <td>228</td>\n",
       "      <td>302</td>\n",
       "      <td>3</td>\n",
       "      <td>0.583979</td>\n",
       "      <td>0.100503</td>\n",
       "      <td>0.100503</td>\n",
       "      <td>0.100503</td>\n",
       "      <td>0.362150</td>\n",
       "      <td>2</td>\n",
       "      <td>...</td>\n",
       "      <td>29808</td>\n",
       "      <td>1689</td>\n",
       "      <td>15.430498</td>\n",
       "      <td>3.984029</td>\n",
       "      <td>8.204331</td>\n",
       "      <td>0.332423</td>\n",
       "      <td>6.988815</td>\n",
       "      <td>66</td>\n",
       "      <td>75.530303</td>\n",
       "      <td>1916.893939</td>\n",
       "    </tr>\n",
       "    <tr>\n",
       "      <td>1</td>\n",
       "      <td>0</td>\n",
       "      <td>21591</td>\n",
       "      <td>1179</td>\n",
       "      <td>228</td>\n",
       "      <td>90.456506</td>\n",
       "      <td>25.798292</td>\n",
       "      <td>5.709329</td>\n",
       "      <td>1.111159</td>\n",
       "      <td>5.176620</td>\n",
       "      <td>369</td>\n",
       "      <td>...</td>\n",
       "      <td>848</td>\n",
       "      <td>1610</td>\n",
       "      <td>40.495021</td>\n",
       "      <td>8.943607</td>\n",
       "      <td>3.227677</td>\n",
       "      <td>0.564343</td>\n",
       "      <td>1.070321</td>\n",
       "      <td>163</td>\n",
       "      <td>132.030675</td>\n",
       "      <td>2931.515337</td>\n",
       "    </tr>\n",
       "    <tr>\n",
       "      <td>2</td>\n",
       "      <td>0</td>\n",
       "      <td>7310</td>\n",
       "      <td>1215</td>\n",
       "      <td>101</td>\n",
       "      <td>25.503644</td>\n",
       "      <td>9.556347</td>\n",
       "      <td>5.361519</td>\n",
       "      <td>0.591206</td>\n",
       "      <td>3.589718</td>\n",
       "      <td>95</td>\n",
       "      <td>...</td>\n",
       "      <td>482</td>\n",
       "      <td>206</td>\n",
       "      <td>0.734696</td>\n",
       "      <td>0.354379</td>\n",
       "      <td>0.603202</td>\n",
       "      <td>0.100503</td>\n",
       "      <td>0.603202</td>\n",
       "      <td>3</td>\n",
       "      <td>10.333333</td>\n",
       "      <td>277.333333</td>\n",
       "    </tr>\n",
       "    <tr>\n",
       "      <td>3</td>\n",
       "      <td>0</td>\n",
       "      <td>20</td>\n",
       "      <td>7</td>\n",
       "      <td>2</td>\n",
       "      <td>7.690824</td>\n",
       "      <td>0.277306</td>\n",
       "      <td>1.331508</td>\n",
       "      <td>0.100503</td>\n",
       "      <td>2.830627</td>\n",
       "      <td>6</td>\n",
       "      <td>...</td>\n",
       "      <td>17637</td>\n",
       "      <td>278</td>\n",
       "      <td>572.874856</td>\n",
       "      <td>390.293681</td>\n",
       "      <td>27.552040</td>\n",
       "      <td>7.167557</td>\n",
       "      <td>32.101906</td>\n",
       "      <td>1762</td>\n",
       "      <td>23.469296</td>\n",
       "      <td>1395.845634</td>\n",
       "    </tr>\n",
       "    <tr>\n",
       "      <td>4</td>\n",
       "      <td>1</td>\n",
       "      <td>45589</td>\n",
       "      <td>862</td>\n",
       "      <td>2641</td>\n",
       "      <td>148.854279</td>\n",
       "      <td>36.998884</td>\n",
       "      <td>27.881768</td>\n",
       "      <td>3.333492</td>\n",
       "      <td>23.861282</td>\n",
       "      <td>551</td>\n",
       "      <td>...</td>\n",
       "      <td>1711</td>\n",
       "      <td>181</td>\n",
       "      <td>21.601866</td>\n",
       "      <td>3.581661</td>\n",
       "      <td>6.764657</td>\n",
       "      <td>1.119727</td>\n",
       "      <td>4.563246</td>\n",
       "      <td>85</td>\n",
       "      <td>48.500000</td>\n",
       "      <td>1993.627907</td>\n",
       "    </tr>\n",
       "  </tbody>\n",
       "</table>\n",
       "<p>5 rows × 23 columns</p>\n",
       "</div>"
      ],
      "text/plain": [
       "   Choice  A_follower_count  A_following_count  A_listed_count  \\\n",
       "0       0               228                302               3   \n",
       "1       0             21591               1179             228   \n",
       "2       0              7310               1215             101   \n",
       "3       0                20                  7               2   \n",
       "4       1             45589                862            2641   \n",
       "\n",
       "   A_mentions_received  A_retweets_received  A_mentions_sent  A_retweets_sent  \\\n",
       "0             0.583979             0.100503         0.100503         0.100503   \n",
       "1            90.456506            25.798292         5.709329         1.111159   \n",
       "2            25.503644             9.556347         5.361519         0.591206   \n",
       "3             7.690824             0.277306         1.331508         0.100503   \n",
       "4           148.854279            36.998884        27.881768         3.333492   \n",
       "\n",
       "     A_posts  A_network_feature_1  ...  B_following_count  B_listed_count  \\\n",
       "0   0.362150                    2  ...              29808            1689   \n",
       "1   5.176620                  369  ...                848            1610   \n",
       "2   3.589718                   95  ...                482             206   \n",
       "3   2.830627                    6  ...              17637             278   \n",
       "4  23.861282                  551  ...               1711             181   \n",
       "\n",
       "   B_mentions_received  B_retweets_received  B_mentions_sent  B_retweets_sent  \\\n",
       "0            15.430498             3.984029         8.204331         0.332423   \n",
       "1            40.495021             8.943607         3.227677         0.564343   \n",
       "2             0.734696             0.354379         0.603202         0.100503   \n",
       "3           572.874856           390.293681        27.552040         7.167557   \n",
       "4            21.601866             3.581661         6.764657         1.119727   \n",
       "\n",
       "     B_posts  B_network_feature_1  B_network_feature_2  B_network_feature_3  \n",
       "0   6.988815                   66            75.530303          1916.893939  \n",
       "1   1.070321                  163           132.030675          2931.515337  \n",
       "2   0.603202                    3            10.333333           277.333333  \n",
       "3  32.101906                 1762            23.469296          1395.845634  \n",
       "4   4.563246                   85            48.500000          1993.627907  \n",
       "\n",
       "[5 rows x 23 columns]"
      ]
     },
     "execution_count": 44,
     "metadata": {},
     "output_type": "execute_result"
    }
   ],
   "source": [
    "df.head()"
   ]
  },
  {
   "cell_type": "markdown",
   "metadata": {},
   "source": [
    "### 2. See the correlation matrix to check if we should use all variables"
   ]
  },
  {
   "cell_type": "code",
   "execution_count": 18,
   "metadata": {},
   "outputs": [],
   "source": [
    "df2=df[df.columns[1:12]] "
   ]
  },
  {
   "cell_type": "code",
   "execution_count": 19,
   "metadata": {
    "scrolled": true
   },
   "outputs": [
    {
     "data": {
      "text/html": [
       "<div>\n",
       "<style scoped>\n",
       "    .dataframe tbody tr th:only-of-type {\n",
       "        vertical-align: middle;\n",
       "    }\n",
       "\n",
       "    .dataframe tbody tr th {\n",
       "        vertical-align: top;\n",
       "    }\n",
       "\n",
       "    .dataframe thead th {\n",
       "        text-align: right;\n",
       "    }\n",
       "</style>\n",
       "<table border=\"1\" class=\"dataframe\">\n",
       "  <thead>\n",
       "    <tr style=\"text-align: right;\">\n",
       "      <th></th>\n",
       "      <th>A_follower_count</th>\n",
       "      <th>A_following_count</th>\n",
       "      <th>A_listed_count</th>\n",
       "      <th>A_mentions_received</th>\n",
       "      <th>A_retweets_received</th>\n",
       "      <th>A_mentions_sent</th>\n",
       "      <th>A_retweets_sent</th>\n",
       "      <th>A_posts</th>\n",
       "      <th>A_network_feature_1</th>\n",
       "      <th>A_network_feature_2</th>\n",
       "      <th>A_network_feature_3</th>\n",
       "    </tr>\n",
       "  </thead>\n",
       "  <tbody>\n",
       "    <tr>\n",
       "      <td>A_follower_count</td>\n",
       "      <td>1.000000</td>\n",
       "      <td>0.115834</td>\n",
       "      <td>0.815952</td>\n",
       "      <td>0.511609</td>\n",
       "      <td>0.521888</td>\n",
       "      <td>0.018456</td>\n",
       "      <td>0.094799</td>\n",
       "      <td>0.042993</td>\n",
       "      <td>0.622146</td>\n",
       "      <td>-0.153272</td>\n",
       "      <td>-0.036082</td>\n",
       "    </tr>\n",
       "    <tr>\n",
       "      <td>A_following_count</td>\n",
       "      <td>0.115834</td>\n",
       "      <td>1.000000</td>\n",
       "      <td>0.100696</td>\n",
       "      <td>0.058140</td>\n",
       "      <td>0.051819</td>\n",
       "      <td>0.111342</td>\n",
       "      <td>-0.083883</td>\n",
       "      <td>0.138373</td>\n",
       "      <td>0.047236</td>\n",
       "      <td>0.043642</td>\n",
       "      <td>0.097762</td>\n",
       "    </tr>\n",
       "    <tr>\n",
       "      <td>A_listed_count</td>\n",
       "      <td>0.815952</td>\n",
       "      <td>0.100696</td>\n",
       "      <td>1.000000</td>\n",
       "      <td>0.734589</td>\n",
       "      <td>0.747752</td>\n",
       "      <td>0.061729</td>\n",
       "      <td>0.155630</td>\n",
       "      <td>0.053975</td>\n",
       "      <td>0.705268</td>\n",
       "      <td>-0.080056</td>\n",
       "      <td>-0.038574</td>\n",
       "    </tr>\n",
       "    <tr>\n",
       "      <td>A_mentions_received</td>\n",
       "      <td>0.511609</td>\n",
       "      <td>0.058140</td>\n",
       "      <td>0.734589</td>\n",
       "      <td>1.000000</td>\n",
       "      <td>0.990021</td>\n",
       "      <td>0.023336</td>\n",
       "      <td>0.050100</td>\n",
       "      <td>0.026512</td>\n",
       "      <td>0.922340</td>\n",
       "      <td>-0.062407</td>\n",
       "      <td>-0.038079</td>\n",
       "    </tr>\n",
       "    <tr>\n",
       "      <td>A_retweets_received</td>\n",
       "      <td>0.521888</td>\n",
       "      <td>0.051819</td>\n",
       "      <td>0.747752</td>\n",
       "      <td>0.990021</td>\n",
       "      <td>1.000000</td>\n",
       "      <td>0.019130</td>\n",
       "      <td>0.043846</td>\n",
       "      <td>0.033068</td>\n",
       "      <td>0.928273</td>\n",
       "      <td>-0.065266</td>\n",
       "      <td>-0.040301</td>\n",
       "    </tr>\n",
       "    <tr>\n",
       "      <td>A_mentions_sent</td>\n",
       "      <td>0.018456</td>\n",
       "      <td>0.111342</td>\n",
       "      <td>0.061729</td>\n",
       "      <td>0.023336</td>\n",
       "      <td>0.019130</td>\n",
       "      <td>1.000000</td>\n",
       "      <td>0.582630</td>\n",
       "      <td>0.607040</td>\n",
       "      <td>0.032608</td>\n",
       "      <td>0.064242</td>\n",
       "      <td>0.035437</td>\n",
       "    </tr>\n",
       "    <tr>\n",
       "      <td>A_retweets_sent</td>\n",
       "      <td>0.094799</td>\n",
       "      <td>-0.083883</td>\n",
       "      <td>0.155630</td>\n",
       "      <td>0.050100</td>\n",
       "      <td>0.043846</td>\n",
       "      <td>0.582630</td>\n",
       "      <td>1.000000</td>\n",
       "      <td>0.379318</td>\n",
       "      <td>0.081908</td>\n",
       "      <td>-0.048761</td>\n",
       "      <td>-0.042127</td>\n",
       "    </tr>\n",
       "    <tr>\n",
       "      <td>A_posts</td>\n",
       "      <td>0.042993</td>\n",
       "      <td>0.138373</td>\n",
       "      <td>0.053975</td>\n",
       "      <td>0.026512</td>\n",
       "      <td>0.033068</td>\n",
       "      <td>0.607040</td>\n",
       "      <td>0.379318</td>\n",
       "      <td>1.000000</td>\n",
       "      <td>0.074683</td>\n",
       "      <td>-0.066125</td>\n",
       "      <td>-0.018347</td>\n",
       "    </tr>\n",
       "    <tr>\n",
       "      <td>A_network_feature_1</td>\n",
       "      <td>0.622146</td>\n",
       "      <td>0.047236</td>\n",
       "      <td>0.705268</td>\n",
       "      <td>0.922340</td>\n",
       "      <td>0.928273</td>\n",
       "      <td>0.032608</td>\n",
       "      <td>0.081908</td>\n",
       "      <td>0.074683</td>\n",
       "      <td>1.000000</td>\n",
       "      <td>-0.118138</td>\n",
       "      <td>-0.071711</td>\n",
       "    </tr>\n",
       "    <tr>\n",
       "      <td>A_network_feature_2</td>\n",
       "      <td>-0.153272</td>\n",
       "      <td>0.043642</td>\n",
       "      <td>-0.080056</td>\n",
       "      <td>-0.062407</td>\n",
       "      <td>-0.065266</td>\n",
       "      <td>0.064242</td>\n",
       "      <td>-0.048761</td>\n",
       "      <td>-0.066125</td>\n",
       "      <td>-0.118138</td>\n",
       "      <td>1.000000</td>\n",
       "      <td>0.520617</td>\n",
       "    </tr>\n",
       "    <tr>\n",
       "      <td>A_network_feature_3</td>\n",
       "      <td>-0.036082</td>\n",
       "      <td>0.097762</td>\n",
       "      <td>-0.038574</td>\n",
       "      <td>-0.038079</td>\n",
       "      <td>-0.040301</td>\n",
       "      <td>0.035437</td>\n",
       "      <td>-0.042127</td>\n",
       "      <td>-0.018347</td>\n",
       "      <td>-0.071711</td>\n",
       "      <td>0.520617</td>\n",
       "      <td>1.000000</td>\n",
       "    </tr>\n",
       "  </tbody>\n",
       "</table>\n",
       "</div>"
      ],
      "text/plain": [
       "                     A_follower_count  A_following_count  A_listed_count  \\\n",
       "A_follower_count             1.000000           0.115834        0.815952   \n",
       "A_following_count            0.115834           1.000000        0.100696   \n",
       "A_listed_count               0.815952           0.100696        1.000000   \n",
       "A_mentions_received          0.511609           0.058140        0.734589   \n",
       "A_retweets_received          0.521888           0.051819        0.747752   \n",
       "A_mentions_sent              0.018456           0.111342        0.061729   \n",
       "A_retweets_sent              0.094799          -0.083883        0.155630   \n",
       "A_posts                      0.042993           0.138373        0.053975   \n",
       "A_network_feature_1          0.622146           0.047236        0.705268   \n",
       "A_network_feature_2         -0.153272           0.043642       -0.080056   \n",
       "A_network_feature_3         -0.036082           0.097762       -0.038574   \n",
       "\n",
       "                     A_mentions_received  A_retweets_received  \\\n",
       "A_follower_count                0.511609             0.521888   \n",
       "A_following_count               0.058140             0.051819   \n",
       "A_listed_count                  0.734589             0.747752   \n",
       "A_mentions_received             1.000000             0.990021   \n",
       "A_retweets_received             0.990021             1.000000   \n",
       "A_mentions_sent                 0.023336             0.019130   \n",
       "A_retweets_sent                 0.050100             0.043846   \n",
       "A_posts                         0.026512             0.033068   \n",
       "A_network_feature_1             0.922340             0.928273   \n",
       "A_network_feature_2            -0.062407            -0.065266   \n",
       "A_network_feature_3            -0.038079            -0.040301   \n",
       "\n",
       "                     A_mentions_sent  A_retweets_sent   A_posts  \\\n",
       "A_follower_count            0.018456         0.094799  0.042993   \n",
       "A_following_count           0.111342        -0.083883  0.138373   \n",
       "A_listed_count              0.061729         0.155630  0.053975   \n",
       "A_mentions_received         0.023336         0.050100  0.026512   \n",
       "A_retweets_received         0.019130         0.043846  0.033068   \n",
       "A_mentions_sent             1.000000         0.582630  0.607040   \n",
       "A_retweets_sent             0.582630         1.000000  0.379318   \n",
       "A_posts                     0.607040         0.379318  1.000000   \n",
       "A_network_feature_1         0.032608         0.081908  0.074683   \n",
       "A_network_feature_2         0.064242        -0.048761 -0.066125   \n",
       "A_network_feature_3         0.035437        -0.042127 -0.018347   \n",
       "\n",
       "                     A_network_feature_1  A_network_feature_2  \\\n",
       "A_follower_count                0.622146            -0.153272   \n",
       "A_following_count               0.047236             0.043642   \n",
       "A_listed_count                  0.705268            -0.080056   \n",
       "A_mentions_received             0.922340            -0.062407   \n",
       "A_retweets_received             0.928273            -0.065266   \n",
       "A_mentions_sent                 0.032608             0.064242   \n",
       "A_retweets_sent                 0.081908            -0.048761   \n",
       "A_posts                         0.074683            -0.066125   \n",
       "A_network_feature_1             1.000000            -0.118138   \n",
       "A_network_feature_2            -0.118138             1.000000   \n",
       "A_network_feature_3            -0.071711             0.520617   \n",
       "\n",
       "                     A_network_feature_3  \n",
       "A_follower_count               -0.036082  \n",
       "A_following_count               0.097762  \n",
       "A_listed_count                 -0.038574  \n",
       "A_mentions_received            -0.038079  \n",
       "A_retweets_received            -0.040301  \n",
       "A_mentions_sent                 0.035437  \n",
       "A_retweets_sent                -0.042127  \n",
       "A_posts                        -0.018347  \n",
       "A_network_feature_1            -0.071711  \n",
       "A_network_feature_2             0.520617  \n",
       "A_network_feature_3             1.000000  "
      ]
     },
     "execution_count": 19,
     "metadata": {},
     "output_type": "execute_result"
    },
    {
     "data": {
      "image/png": "[encoded data removed]",
      "text/plain": [
       "<Figure size 720x576 with 2 Axes>"
      ]
     },
     "metadata": {
      "needs_background": "light"
     },
     "output_type": "display_data"
    }
   ],
   "source": [
    "import seaborn as sns #from pandas.plotting import scatter_matrix\n",
    "f, ax = plt.subplots(figsize=(10, 8))\n",
    "corr = df2.corr()\n",
    "ax = sns.heatmap(\n",
    "    corr, \n",
    "    vmin=-1, vmax=1, center=0,\n",
    "    cmap=sns.diverging_palette(20, 220, n=200),\n",
    "    square=True\n",
    ")\n",
    "ax.set_xticklabels(\n",
    "    ax.get_xticklabels(),\n",
    "    rotation=45,\n",
    "    horizontalalignment='right'\n",
    ");\n",
    "corr"
   ]
  },
  {
   "cell_type": "markdown",
   "metadata": {},
   "source": [
    "**From the correlation matrix, we decide to drop network_feature_1, mentions_received since cor(network_feature_1,retweets_received)=0.928, cor(mentions_received, retweets_received)=0.99.**"
   ]
  },
  {
   "cell_type": "markdown",
   "metadata": {},
   "source": [
    "### 3. Feature Transformation"
   ]
  },
  {
   "cell_type": "code",
   "execution_count": 45,
   "metadata": {},
   "outputs": [],
   "source": [
    "df4=df[df.columns[1:23]]\n",
    "df4.replace(0,0.00001,inplace=True)\n",
    "df4.drop(['A_mentions_received', 'B_mentions_received','A_network_feature_1','B_network_feature_1'],\\\n",
    "axis=1, inplace=True)"
   ]
  },
  {
   "cell_type": "code",
   "execution_count": 46,
   "metadata": {
    "scrolled": false
   },
   "outputs": [
    {
     "data": {
      "text/html": [
       "<div>\n",
       "<style scoped>\n",
       "    .dataframe tbody tr th:only-of-type {\n",
       "        vertical-align: middle;\n",
       "    }\n",
       "\n",
       "    .dataframe tbody tr th {\n",
       "        vertical-align: top;\n",
       "    }\n",
       "\n",
       "    .dataframe thead th {\n",
       "        text-align: right;\n",
       "    }\n",
       "</style>\n",
       "<table border=\"1\" class=\"dataframe\">\n",
       "  <thead>\n",
       "    <tr style=\"text-align: right;\">\n",
       "      <th></th>\n",
       "      <th>A_follower_count</th>\n",
       "      <th>A_following_count</th>\n",
       "      <th>A_listed_count</th>\n",
       "      <th>A_retweets_received</th>\n",
       "      <th>A_mentions_sent</th>\n",
       "      <th>A_retweets_sent</th>\n",
       "      <th>A_posts</th>\n",
       "      <th>A_network_feature_2</th>\n",
       "      <th>A_network_feature_3</th>\n",
       "      <th>B_follower_count</th>\n",
       "      <th>...</th>\n",
       "      <th>B_network_feature_3</th>\n",
       "      <th>diff_follower_count</th>\n",
       "      <th>diff_posts</th>\n",
       "      <th>diff_following_count</th>\n",
       "      <th>diff_listed_count</th>\n",
       "      <th>diff_retweets_received</th>\n",
       "      <th>diff_mentions_sent</th>\n",
       "      <th>diff_retweets_sent</th>\n",
       "      <th>diff_network_feature_3</th>\n",
       "      <th>diff_network_feature_2</th>\n",
       "    </tr>\n",
       "  </thead>\n",
       "  <tbody>\n",
       "    <tr>\n",
       "      <td>0</td>\n",
       "      <td>228</td>\n",
       "      <td>302.0</td>\n",
       "      <td>3.0</td>\n",
       "      <td>0.100503</td>\n",
       "      <td>0.100503</td>\n",
       "      <td>0.100503</td>\n",
       "      <td>0.362150</td>\n",
       "      <td>166.500000</td>\n",
       "      <td>11355.000000</td>\n",
       "      <td>34463</td>\n",
       "      <td>...</td>\n",
       "      <td>1916.893939</td>\n",
       "      <td>-34235</td>\n",
       "      <td>-6.626665</td>\n",
       "      <td>-29506.0</td>\n",
       "      <td>-1686.0</td>\n",
       "      <td>-3.883525</td>\n",
       "      <td>-8.103828</td>\n",
       "      <td>-0.231920</td>\n",
       "      <td>9438.106061</td>\n",
       "      <td>90.969697</td>\n",
       "    </tr>\n",
       "    <tr>\n",
       "      <td>1</td>\n",
       "      <td>21591</td>\n",
       "      <td>1179.0</td>\n",
       "      <td>228.0</td>\n",
       "      <td>25.798292</td>\n",
       "      <td>5.709329</td>\n",
       "      <td>1.111159</td>\n",
       "      <td>5.176620</td>\n",
       "      <td>18.442971</td>\n",
       "      <td>1330.366048</td>\n",
       "      <td>39262</td>\n",
       "      <td>...</td>\n",
       "      <td>2931.515337</td>\n",
       "      <td>-17671</td>\n",
       "      <td>4.106299</td>\n",
       "      <td>331.0</td>\n",
       "      <td>-1382.0</td>\n",
       "      <td>16.854685</td>\n",
       "      <td>2.481652</td>\n",
       "      <td>0.546816</td>\n",
       "      <td>-1601.149290</td>\n",
       "      <td>-113.587704</td>\n",
       "    </tr>\n",
       "    <tr>\n",
       "      <td>2</td>\n",
       "      <td>7310</td>\n",
       "      <td>1215.0</td>\n",
       "      <td>101.0</td>\n",
       "      <td>9.556347</td>\n",
       "      <td>5.361519</td>\n",
       "      <td>0.591206</td>\n",
       "      <td>3.589718</td>\n",
       "      <td>68.927835</td>\n",
       "      <td>5999.896907</td>\n",
       "      <td>3622</td>\n",
       "      <td>...</td>\n",
       "      <td>277.333333</td>\n",
       "      <td>3688</td>\n",
       "      <td>2.986516</td>\n",
       "      <td>733.0</td>\n",
       "      <td>-105.0</td>\n",
       "      <td>9.201969</td>\n",
       "      <td>4.758317</td>\n",
       "      <td>0.490702</td>\n",
       "      <td>5722.563574</td>\n",
       "      <td>58.594502</td>\n",
       "    </tr>\n",
       "    <tr>\n",
       "      <td>3</td>\n",
       "      <td>20</td>\n",
       "      <td>7.0</td>\n",
       "      <td>2.0</td>\n",
       "      <td>0.277306</td>\n",
       "      <td>1.331508</td>\n",
       "      <td>0.100503</td>\n",
       "      <td>2.830627</td>\n",
       "      <td>2.000000</td>\n",
       "      <td>96.166667</td>\n",
       "      <td>19562</td>\n",
       "      <td>...</td>\n",
       "      <td>1395.845634</td>\n",
       "      <td>-19542</td>\n",
       "      <td>-29.271279</td>\n",
       "      <td>-17630.0</td>\n",
       "      <td>-276.0</td>\n",
       "      <td>-390.016375</td>\n",
       "      <td>-26.220532</td>\n",
       "      <td>-7.067053</td>\n",
       "      <td>-1299.678967</td>\n",
       "      <td>-21.469296</td>\n",
       "    </tr>\n",
       "    <tr>\n",
       "      <td>4</td>\n",
       "      <td>45589</td>\n",
       "      <td>862.0</td>\n",
       "      <td>2641.0</td>\n",
       "      <td>36.998884</td>\n",
       "      <td>27.881768</td>\n",
       "      <td>3.333492</td>\n",
       "      <td>23.861282</td>\n",
       "      <td>127.404293</td>\n",
       "      <td>2833.847943</td>\n",
       "      <td>7554</td>\n",
       "      <td>...</td>\n",
       "      <td>1993.627907</td>\n",
       "      <td>38035</td>\n",
       "      <td>19.298035</td>\n",
       "      <td>-849.0</td>\n",
       "      <td>2460.0</td>\n",
       "      <td>33.417223</td>\n",
       "      <td>21.117111</td>\n",
       "      <td>2.213765</td>\n",
       "      <td>840.220036</td>\n",
       "      <td>78.904293</td>\n",
       "    </tr>\n",
       "  </tbody>\n",
       "</table>\n",
       "<p>5 rows × 27 columns</p>\n",
       "</div>"
      ],
      "text/plain": [
       "   A_follower_count  A_following_count  A_listed_count  A_retweets_received  \\\n",
       "0               228              302.0             3.0             0.100503   \n",
       "1             21591             1179.0           228.0            25.798292   \n",
       "2              7310             1215.0           101.0             9.556347   \n",
       "3                20                7.0             2.0             0.277306   \n",
       "4             45589              862.0          2641.0            36.998884   \n",
       "\n",
       "   A_mentions_sent  A_retweets_sent    A_posts  A_network_feature_2  \\\n",
       "0         0.100503         0.100503   0.362150           166.500000   \n",
       "1         5.709329         1.111159   5.176620            18.442971   \n",
       "2         5.361519         0.591206   3.589718            68.927835   \n",
       "3         1.331508         0.100503   2.830627             2.000000   \n",
       "4        27.881768         3.333492  23.861282           127.404293   \n",
       "\n",
       "   A_network_feature_3  B_follower_count  ...  B_network_feature_3  \\\n",
       "0         11355.000000             34463  ...          1916.893939   \n",
       "1          1330.366048             39262  ...          2931.515337   \n",
       "2          5999.896907              3622  ...           277.333333   \n",
       "3            96.166667             19562  ...          1395.845634   \n",
       "4          2833.847943              7554  ...          1993.627907   \n",
       "\n",
       "   diff_follower_count  diff_posts  diff_following_count  diff_listed_count  \\\n",
       "0               -34235   -6.626665              -29506.0            -1686.0   \n",
       "1               -17671    4.106299                 331.0            -1382.0   \n",
       "2                 3688    2.986516                 733.0             -105.0   \n",
       "3               -19542  -29.271279              -17630.0             -276.0   \n",
       "4                38035   19.298035                -849.0             2460.0   \n",
       "\n",
       "   diff_retweets_received  diff_mentions_sent  diff_retweets_sent  \\\n",
       "0               -3.883525           -8.103828           -0.231920   \n",
       "1               16.854685            2.481652            0.546816   \n",
       "2                9.201969            4.758317            0.490702   \n",
       "3             -390.016375          -26.220532           -7.067053   \n",
       "4               33.417223           21.117111            2.213765   \n",
       "\n",
       "   diff_network_feature_3  diff_network_feature_2  \n",
       "0             9438.106061               90.969697  \n",
       "1            -1601.149290             -113.587704  \n",
       "2             5722.563574               58.594502  \n",
       "3            -1299.678967              -21.469296  \n",
       "4              840.220036               78.904293  \n",
       "\n",
       "[5 rows x 27 columns]"
      ]
     },
     "execution_count": 46,
     "metadata": {},
     "output_type": "execute_result"
    }
   ],
   "source": [
    "df4['diff_follower_count']=df4['A_follower_count'] - df4['B_follower_count']\n",
    "df4['diff_posts'] = df4['A_posts'] - df4['B_posts']\n",
    "df4['diff_following_count']=df4['A_following_count'] - df4['B_following_count']\n",
    "df4['diff_listed_count']=df4['A_listed_count'] - df4['B_listed_count']\n",
    "df4['diff_retweets_received']=df4['A_retweets_received'] - df4['B_retweets_received']\n",
    "df4['diff_mentions_sent']=df4['A_mentions_sent'] - df4['B_mentions_sent']\n",
    "df4['diff_retweets_sent']=df4['A_retweets_sent'] - df4['B_retweets_sent']\n",
    "df4['diff_posts']=df4['A_posts'] - df4['B_posts']\n",
    "df4['diff_network_feature_3'] = df4['A_network_feature_3'] - df4['B_network_feature_3']\n",
    "df4['diff_network_feature_2'] = df4['A_network_feature_2'] - df4['B_network_feature_2']\n",
    "df4.head()"
   ]
  },
  {
   "cell_type": "markdown",
   "metadata": {},
   "source": [
    "### 4. Fit Model"
   ]
  },
  {
   "cell_type": "markdown",
   "metadata": {},
   "source": [
    "##### (1)Logistic Regression"
   ]
  },
  {
   "cell_type": "code",
   "execution_count": 47,
   "metadata": {},
   "outputs": [],
   "source": [
    "X=df4.iloc[:,-9:]\n",
    "Y=df['Choice'].values\n",
    "X_train,X_test,y_train,y_test=train_test_split(X,Y,test_size=0.20,random_state=5)\n",
    "scaler = StandardScaler()\n",
    "scaler.fit(X)\n",
    "X_scaled = pd.DataFrame(scaler.transform(X),columns = X.columns)"
   ]
  },
  {
   "cell_type": "code",
   "execution_count": 50,
   "metadata": {},
   "outputs": [
    {
     "name": "stdout",
     "output_type": "stream",
     "text": [
      "Predict accuracy of Logistic Regression is  0.7636363636363637\n"
     ]
    },
    {
     "data": {
      "image/png": "[encoded data removed]",
      "text/plain": [
       "<Figure size 432x288 with 2 Axes>"
      ]
     },
     "metadata": {
      "needs_background": "light"
     },
     "output_type": "display_data"
    },
    {
     "data": {
      "text/plain": [
       "array([[419, 125],\n",
       "       [135, 421]], dtype=int64)"
      ]
     },
     "execution_count": 50,
     "metadata": {},
     "output_type": "execute_result"
    }
   ],
   "source": [
    "LR = LogisticRegression().fit(X_train, y_train)\n",
    "y_pred_lr = LR.predict(X_test)\n",
    "acc_lr = metrics.accuracy_score(y_test, y_pred_lr)\n",
    "c_lr=confusion_matrix(y_test, y_pred_lr)\n",
    "print('Predict accuracy of Logistic Regression is ', acc_lr)\n",
    "labels = ['A<B', 'A>B']\n",
    "sns.heatmap(c_lr,xticklabels=labels, yticklabels=labels, fmt='d', cmap=\"Blues\", vmin = 0.1);\n",
    "plt.title('Confusion Matrix for logistic regression')\n",
    "plt.ylabel('True Class')\n",
    "plt.xlabel('Predicted Class')\n",
    "plt.show()\n",
    "c_lr"
   ]
  },
  {
   "cell_type": "markdown",
   "metadata": {},
   "source": [
    "##### (2)Random Forest"
   ]
  },
  {
   "cell_type": "code",
   "execution_count": 52,
   "metadata": {},
   "outputs": [
    {
     "name": "stdout",
     "output_type": "stream",
     "text": [
      "Predict accuracy of Random Forest is  0.7909090909090909\n"
     ]
    },
    {
     "data": {
      "image/png": "[encoded data removed]",
      "text/plain": [
       "<Figure size 432x288 with 2 Axes>"
      ]
     },
     "metadata": {
      "needs_background": "light"
     },
     "output_type": "display_data"
    },
    {
     "data": {
      "text/plain": [
       "array([[423, 121],\n",
       "       [109, 447]], dtype=int64)"
      ]
     },
     "execution_count": 52,
     "metadata": {},
     "output_type": "execute_result"
    }
   ],
   "source": [
    "from sklearn.ensemble import RandomForestClassifier\n",
    "rf = RandomForestClassifier(n_estimators = 200)\n",
    "rf.fit(X_train, y_train)\n",
    "y_pred_rf = rf.predict(X_test)\n",
    "acc_rf = metrics.accuracy_score(y_test, y_pred_rf)\n",
    "c_rf=confusion_matrix(y_test, y_pred_rf)\n",
    "print('Predict accuracy of Random Forest is ', acc_rf)\n",
    "labels = ['A<B', 'A>B']\n",
    "sns.heatmap(c_rf,xticklabels=labels, yticklabels=labels, fmt='d', cmap=\"Blues\", vmin = 0.1);\n",
    "plt.title('Confusion Matrix for Random Forest')\n",
    "plt.ylabel('True Class')\n",
    "plt.xlabel('Predicted Class')\n",
    "plt.show()\n",
    "c_rf"
   ]
  },
  {
   "cell_type": "code",
   "execution_count": 53,
   "metadata": {},
   "outputs": [
    {
     "data": {
      "text/html": [
       "<div>\n",
       "<style scoped>\n",
       "    .dataframe tbody tr th:only-of-type {\n",
       "        vertical-align: middle;\n",
       "    }\n",
       "\n",
       "    .dataframe tbody tr th {\n",
       "        vertical-align: top;\n",
       "    }\n",
       "\n",
       "    .dataframe thead th {\n",
       "        text-align: right;\n",
       "    }\n",
       "</style>\n",
       "<table border=\"1\" class=\"dataframe\">\n",
       "  <thead>\n",
       "    <tr style=\"text-align: right;\">\n",
       "      <th></th>\n",
       "      <th>importance</th>\n",
       "    </tr>\n",
       "  </thead>\n",
       "  <tbody>\n",
       "    <tr>\n",
       "      <td>diff_listed_count</td>\n",
       "      <td>0.210117</td>\n",
       "    </tr>\n",
       "    <tr>\n",
       "      <td>diff_follower_count</td>\n",
       "      <td>0.166544</td>\n",
       "    </tr>\n",
       "    <tr>\n",
       "      <td>diff_retweets_received</td>\n",
       "      <td>0.151146</td>\n",
       "    </tr>\n",
       "    <tr>\n",
       "      <td>diff_posts</td>\n",
       "      <td>0.088422</td>\n",
       "    </tr>\n",
       "    <tr>\n",
       "      <td>diff_mentions_sent</td>\n",
       "      <td>0.083693</td>\n",
       "    </tr>\n",
       "    <tr>\n",
       "      <td>diff_following_count</td>\n",
       "      <td>0.079989</td>\n",
       "    </tr>\n",
       "    <tr>\n",
       "      <td>diff_network_feature_2</td>\n",
       "      <td>0.079284</td>\n",
       "    </tr>\n",
       "    <tr>\n",
       "      <td>diff_network_feature_3</td>\n",
       "      <td>0.075396</td>\n",
       "    </tr>\n",
       "    <tr>\n",
       "      <td>diff_retweets_sent</td>\n",
       "      <td>0.065410</td>\n",
       "    </tr>\n",
       "  </tbody>\n",
       "</table>\n",
       "</div>"
      ],
      "text/plain": [
       "                        importance\n",
       "diff_listed_count         0.210117\n",
       "diff_follower_count       0.166544\n",
       "diff_retweets_received    0.151146\n",
       "diff_posts                0.088422\n",
       "diff_mentions_sent        0.083693\n",
       "diff_following_count      0.079989\n",
       "diff_network_feature_2    0.079284\n",
       "diff_network_feature_3    0.075396\n",
       "diff_retweets_sent        0.065410"
      ]
     },
     "execution_count": 53,
     "metadata": {},
     "output_type": "execute_result"
    }
   ],
   "source": [
    "feature_importances = pd.DataFrame(rf.feature_importances_,\n",
    "                                   index = X_train.columns,\n",
    "                                    columns=['importance']).sort_values('importance', ascending=False)\n",
    "feature_importances"
   ]
  },
  {
   "cell_type": "markdown",
   "metadata": {},
   "source": [
    "**From the random forest model, we got 79.09% predict accuracy in out-of sample data. Also, from the feature importance above, the three most important features are:**\n",
    "\n",
    "1. diff_listed_count\n",
    "2. diff_follower_count\n",
    "3. diff_retweets_received"
   ]
  },
  {
   "cell_type": "markdown",
   "metadata": {},
   "source": [
    "##### (3) XGboost"
   ]
  },
  {
   "cell_type": "code",
   "execution_count": 55,
   "metadata": {},
   "outputs": [
    {
     "name": "stdout",
     "output_type": "stream",
     "text": [
      "Collecting xgboost\n",
      "  Downloading https://files.pythonhosted.org/packages/5e/49/b95c037b717b4ceadc76b6e164603471225c27052d1611d5a2e832757945/xgboost-0.90-py2.py3-none-win_amd64.whl (18.3MB)\n",
      "Requirement already satisfied: numpy in c:\\users\\wh_el\\anaconda3\\lib\\site-packages (from xgboost) (1.16.5)\n",
      "Requirement already satisfied: scipy in c:\\users\\wh_el\\anaconda3\\lib\\site-packages (from xgboost) (1.3.1)\n",
      "Installing collected packages: xgboost\n",
      "Successfully installed xgboost-0.90\n"
     ]
    }
   ],
   "source": [
    "!pip install xgboost"
   ]
  },
  {
   "cell_type": "code",
   "execution_count": 57,
   "metadata": {},
   "outputs": [
    {
     "name": "stdout",
     "output_type": "stream",
     "text": [
      "Predict accuracy of Random Forest is  0.7945454545454546\n"
     ]
    },
    {
     "data": {
      "image/png": "[encoded data removed]",
      "text/plain": [
       "<Figure size 432x288 with 2 Axes>"
      ]
     },
     "metadata": {
      "needs_background": "light"
     },
     "output_type": "display_data"
    },
    {
     "data": {
      "text/plain": [
       "array([[422, 122],\n",
       "       [104, 452]], dtype=int64)"
      ]
     },
     "execution_count": 57,
     "metadata": {},
     "output_type": "execute_result"
    }
   ],
   "source": [
    "import xgboost as xgb\n",
    "xgb=xgb.XGBClassifier(random_state=1,learning_rate=0.01)\n",
    "xgb.fit(X_train, y_train)\n",
    "y_pred_xgb = xgb.predict(X_test)\n",
    "acc_xgb = metrics.accuracy_score(y_test, y_pred_xgb)\n",
    "c_xgb=confusion_matrix(y_test, y_pred_xgb)\n",
    "print('Predict accuracy of Random Forest is ', acc_xgb)\n",
    "labels = ['A<B', 'A>B']\n",
    "sns.heatmap(c_xgb, xticklabels=labels, yticklabels=labels, fmt='d', cmap=\"Blues\", vmin = 0.1);\n",
    "plt.title('Confusion Matrix for XGboost')\n",
    "plt.ylabel('True Class')\n",
    "plt.xlabel('Predicted Class')\n",
    "plt.show()\n",
    "c_xgb"
   ]
  },
  {
   "cell_type": "markdown",
   "metadata": {},
   "source": [
    "#### Therefore, our best model is XGboost and the accuracy is 79.45%. The confusion matrix of XGboost model is above."
   ]
  },
  {
   "cell_type": "markdown",
   "metadata": {},
   "source": [
    "**From our random forest model, we decide that diff_listed_count, diff_follower_count, diff_retweets_received are three important predictors of influencers.**\n",
    "\n",
    "**Diff_listed_count** is the most important variable which accounts for about 21%. Listed_count measures that the number of people that are in this users' list. A List is a curated group of Twitter accounts. The higher listed_count, the more people follow with interest.\n",
    "\n",
    "**Diff_follower_count** is the second important variable which accounts for 16.6%. Follow_count is the number of followers this account currently has. So diff_follower_count shows how many more followers  A have than B. The more diff_follower_count, the more likely that A's influence power is higher than B's.\n",
    "\n",
    "**Diff_retweets_received** is the third important variable which accouts for 15.1%. Retweets_received is the number of retweets this user received. The more retweets he/she received, the more people pay attention to the tweets he/she sent. So diff_retweets_received is another good predictor to measure the influencial difference between A and B.\n",
    "\n",
    "If a business is doing a marketing promotion and can only allocate money to pay to one influencer, then this model would help them decide who is the better influencer, and thus the person to pay. Also, it is a great way for the business to make advertisement strategy. For example, when new product launched, the busienss needs to advertise new products on social media platform. It is a better way to use this predictive model to target right influencer to make advertising more effective."
   ]
  },
  {
   "cell_type": "markdown",
   "metadata": {},
   "source": [
    "### Calculate the financial value of your model"
   ]
  },
  {
   "cell_type": "markdown",
   "metadata": {},
   "source": [
    "**Without analytics:**\n",
    "\n",
    "Profit_1 = 10 * 0.01% * (A_followers_count + B_followers_count) - 5 * (# of A + # of B)\n",
    "\n",
    "**With analytics:**\n",
    "\n",
    "Profit_2 = 10 * 0.015% * prediction accuracy * Influencers_followers_count - 10 * # of Influencer\n",
    "\n",
    "**Lift in net profit:**\n",
    "\n",
    "Profit_2 - Profit_1\n",
    "\n",
    "**Since without analytics, the retailer will let everyone (A+B) tweet once. so the profit_1 will be: (under assumption: Each user appears only once in the data)**"
   ]
  },
  {
   "cell_type": "code",
   "execution_count": 64,
   "metadata": {},
   "outputs": [],
   "source": [
    "# When A is influencer, the choice is 1.\n",
    "# A_influencer_follower calculates the followers of A if A is an influencer\n",
    "A_influencer_follower = sum(df['A_follower_count'][df['Choice']==1])\n",
    "\n",
    "# the same for B\n",
    "B_influencer_follower = sum(df['B_follower_count'][df['Choice']==0])\n"
   ]
  },
  {
   "cell_type": "code",
   "execution_count": 74,
   "metadata": {},
   "outputs": [
    {
     "name": "stdout",
     "output_type": "stream",
     "text": [
      "Profit without analytics :  5321568.59\n"
     ]
    }
   ],
   "source": [
    "profit_1 = 10*0.0001*(A_influencer_follower+B_influencer_follower) - 5*(len(df)+len(df))\n",
    "print('Profit without analytics : ', round(profit_1,2) )"
   ]
  },
  {
   "cell_type": "markdown",
   "metadata": {},
   "source": [
    "**With analytics, the retailer will only target influencer and our model accuracy is 79.45%. Also, the retailer only target at A or B. The profit_2 will be:** "
   ]
  },
  {
   "cell_type": "code",
   "execution_count": 73,
   "metadata": {},
   "outputs": [
    {
     "name": "stdout",
     "output_type": "stream",
     "text": [
      "Profit with analytics :  6352525.62\n"
     ]
    }
   ],
   "source": [
    "profit_2 = 10*0.00015*0.7945*(A_influencer_follower+B_influencer_follower) - 10*(len(df))\n",
    "print('Profit with analytics : ', round(profit_2,2) )"
   ]
  },
  {
   "cell_type": "code",
   "execution_count": 72,
   "metadata": {},
   "outputs": [
    {
     "name": "stdout",
     "output_type": "stream",
     "text": [
      "Lift in profit :  1030957.03\n"
     ]
    }
   ],
   "source": [
    "lift_profit = profit_2 - profit_1\n",
    "print('Lift in profit : ', round(lift_profit,2))"
   ]
  },
  {
   "cell_type": "markdown",
   "metadata": {},
   "source": [
    "**If using a perfect analytic model which is the predict accuracy is 100%, the lift in net profit will be**"
   ]
  },
  {
   "cell_type": "code",
   "execution_count": 76,
   "metadata": {},
   "outputs": [
    {
     "name": "stdout",
     "output_type": "stream",
     "text": [
      "Lift in net profit from the perfect analytic model :  2688284.3\n"
     ]
    }
   ],
   "source": [
    "profit_perfect = 10*0.00015*(A_influencer_follower+B_influencer_follower) - 10*(len(df))\n",
    "lift_profit_perfect = profit_perfect - profit_1\n",
    "print('Lift in net profit from the perfect analytic model : ', round(lift_profit_perfect,2))"
   ]
  }
 ],
 "metadata": {
  "kernelspec": {
   "display_name": "Python 3",
   "language": "python",
   "name": "python3"
  },
  "language_info": {
   "codemirror_mode": {
    "name": "ipython",
    "version": 3
   },
   "file_extension": ".py",
   "mimetype": "text/x-python",
   "name": "python",
   "nbconvert_exporter": "python",
   "pygments_lexer": "ipython3",
   "version": "3.7.4"
  }
 },
 "nbformat": 4,
 "nbformat_minor": 2
}
